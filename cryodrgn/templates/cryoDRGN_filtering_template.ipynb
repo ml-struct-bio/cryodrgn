{
 "cells": [
  {
   "cell_type": "markdown",
   "metadata": {
    "scrolled": false
   },
   "source": [
    "# CryoDRGN interactive filtering\n",
    "\n",
    "This jupyter notebook provides multiple methods for filtering particles based on the latent space, including:\n",
    "* clustering of the latent space (k-means or Gaussian mixture model)\n",
    "* outlier detection (Z-score)\n",
    "* interactive selection with a lasso tool\n",
    "\n",
    "For each method, the selected particles are tracked in the variable, `ind_selected`.\n",
    "\n",
    "Once the selection has been finalized, the selected particles are saved as a `index.pkl` file at the end of this notebook. The selected indices can be provided to cryoDRGN with the `--ind` argument to train a new model on a subset of the images or converted to `.star` file format.\n",
    "\n",
    "For more information, see the tutorial on [Notion page]."
   ]
  },
  {
   "cell_type": "code",
   "execution_count": null,
   "metadata": {},
   "outputs": [],
   "source": [
    "import pandas as pd\n",
    "import numpy as np\n",
    "import pickle\n",
    "import subprocess\n",
    "import os, sys\n",
    "\n",
    "from cryodrgn import analysis\n",
    "from cryodrgn import utils\n",
    "from cryodrgn import dataset\n",
    "from cryodrgn import ctf\n",
    "import cryodrgn.config\n",
    "                \n",
    "import matplotlib.pyplot as plt\n",
    "import seaborn as sns\n",
    "import plotly.graph_objs as go\n",
    "import plotly.offline as py\n",
    "from ipywidgets import interact, interactive, HBox, VBox\n",
    "from scipy.spatial.transform import Rotation as RR\n",
    "py.init_notebook_mode()\n",
    "from IPython.display import FileLink, FileLinks"
   ]
  },
  {
   "cell_type": "code",
   "execution_count": null,
   "metadata": {},
   "outputs": [],
   "source": [
    "# Enable interactive widgets\n",
    "!jupyter nbextension enable --py widgetsnbextension"
   ]
  },
  {
   "cell_type": "markdown",
   "metadata": {},
   "source": [
    "### Load results"
   ]
  },
  {
   "cell_type": "code",
   "execution_count": null,
   "metadata": {
    "scrolled": false
   },
   "outputs": [],
   "source": [
    "# Specify the workdir and the epoch number (0-based index) to analyze\n",
    "WORKDIR = '..' \n",
    "EPOCH = 49 # CHANGE ME"
   ]
  },
  {
   "cell_type": "code",
   "execution_count": null,
   "metadata": {},
   "outputs": [],
   "source": [
    "print(os.path.abspath(WORKDIR))"
   ]
  },
  {
   "cell_type": "code",
   "execution_count": null,
   "metadata": {
    "scrolled": false
   },
   "outputs": [],
   "source": [
    "# Load z\n",
    "with open(f'{WORKDIR}/z.{EPOCH}.pkl','rb') as f:\n",
    "    z = pickle.load(f)\n",
    "    z_logvar = pickle.load(f)"
   ]
  },
  {
   "cell_type": "code",
   "execution_count": null,
   "metadata": {},
   "outputs": [],
   "source": [
    "# Load UMAP\n",
    "umap = utils.load_pkl(f'{WORKDIR}/analyze.{EPOCH}/umap.pkl')\n",
    "# or run UMAP\n",
    "# umap = analysis.run_umap(z)"
   ]
  },
  {
   "cell_type": "code",
   "execution_count": null,
   "metadata": {},
   "outputs": [],
   "source": [
    "# Load kmeans\n",
    "K = 20\n",
    "kmeans_labels = utils.load_pkl(f'{WORKDIR}/analyze.{EPOCH}/kmeans{K}/labels.pkl')\n",
    "kmeans_centers = np.loadtxt(f'{WORKDIR}/analyze.{EPOCH}/kmeans{K}/centers.txt')\n",
    "# Or re-run kmeans with the desired number of classes\n",
    "#kmeans_labels, kmeans_centers = analysis.cluster_kmeans(z, 20)\n",
    "\n",
    "# Get index for on-data cluster center\n",
    "kmeans_centers, centers_ind = analysis.get_nearest_point(z, kmeans_centers)"
   ]
  },
  {
   "cell_type": "markdown",
   "metadata": {},
   "source": [
    "### Define helper functions"
   ]
  },
  {
   "cell_type": "code",
   "execution_count": null,
   "metadata": {},
   "outputs": [],
   "source": [
    "def invert_selection(ind_selected):\n",
    "    return np.array(sorted(set(np.arange(len(z))) - set(ind_selected)))"
   ]
  },
  {
   "cell_type": "code",
   "execution_count": null,
   "metadata": {},
   "outputs": [],
   "source": [
    "def combine_selection(ind_sel1, ind_sel2, kind='union'):\n",
    "    assert kind in ('union','intersection')\n",
    "    return analysis.combine_ind(len(z), ind_sel1, ind_sel2, kind)"
   ]
  },
  {
   "cell_type": "code",
   "execution_count": null,
   "metadata": {},
   "outputs": [],
   "source": [
    "def select_clusters(labels, cluster_ids):\n",
    "    return analysis.get_ind_for_cluster(labels, cluster_ids)"
   ]
  },
  {
   "cell_type": "code",
   "execution_count": null,
   "metadata": {},
   "outputs": [],
   "source": [
    "def save_selection(path, index):\n",
    "    if ind_orig is not None:\n",
    "        print('Converting to original .mrcs indicies')\n",
    "        index = analysis.convert_original_indices(index, N_orig, ind_orig)\n",
    "    utils.save_pkl(index, path)\n",
    "    print(f'Wrote {os.path.abspath(path)}')"
   ]
  },
  {
   "cell_type": "markdown",
   "metadata": {},
   "source": [
    "### Load dataset"
   ]
  },
  {
   "cell_type": "code",
   "execution_count": null,
   "metadata": {},
   "outputs": [],
   "source": [
    "# Load configuration file\n",
    "config = cryodrgn.config.load(f'{WORKDIR}/config.yaml')\n",
    "print(config)"
   ]
  },
  {
   "cell_type": "code",
   "execution_count": null,
   "metadata": {},
   "outputs": [],
   "source": [
    "# Load poses\n",
    "if config['dataset_args']['do_pose_sgd']:\n",
    "    pose_pkl = f'{WORKDIR}/pose.{EPOCH}.pkl'\n",
    "    with open(pose_pkl,'rb') as f:\n",
    "        rot, trans = pickle.load(f)\n",
    "else:\n",
    "    pose_pkl = config['dataset_args']['poses']\n",
    "    rot, trans = utils.load_pkl(pose_pkl)"
   ]
  },
  {
   "cell_type": "code",
   "execution_count": null,
   "metadata": {},
   "outputs": [],
   "source": [
    "# Convert rotation matrices to euler angles\n",
    "euler = RR.from_matrix(rot).as_euler('zyz', degrees=True)"
   ]
  },
  {
   "cell_type": "code",
   "execution_count": null,
   "metadata": {},
   "outputs": [],
   "source": [
    "# Load index filter\n",
    "ind_orig = config['dataset_args']['ind']\n",
    "if ind_orig is not None:\n",
    "    ind_orig = utils.load_pkl(ind_orig)\n",
    "    if len(rot) > len(ind_orig):\n",
    "        print(f'Filtering poses from {len(rot)} to {len(ind_orig)}')\n",
    "        rot = rot[ind_orig]\n",
    "        trans = trans[ind_orig]\n",
    "        euler = euler[ind_orig]"
   ]
  },
  {
   "cell_type": "code",
   "execution_count": null,
   "metadata": {},
   "outputs": [],
   "source": [
    "# Load input particles\n",
    "particles = dataset.load_particles(config['dataset_args']['particles'],\n",
    "                            lazy=True,\n",
    "                            datadir=config['dataset_args']['datadir'])\n",
    "N_orig = len(particles)\n",
    "if ind_orig is not None:\n",
    "    print(f'Filtering particles from {len(particles)} to {len(ind_orig)}')\n",
    "    particles = [particles[i] for i in ind_orig]"
   ]
  },
  {
   "cell_type": "code",
   "execution_count": null,
   "metadata": {},
   "outputs": [],
   "source": [
    "# Load CTF\n",
    "ctf_params = utils.load_pkl(config['dataset_args']['ctf'])\n",
    "if ind_orig is not None:\n",
    "    print(f'Filtering ctf parameters from {len(ctf_params)} to {len(ind_orig)}')\n",
    "    ctf_params = ctf_params[ind_orig]\n",
    "ctf.print_ctf_params(ctf_params[0])"
   ]
  },
  {
   "cell_type": "markdown",
   "metadata": {},
   "source": [
    "### View pose distribution"
   ]
  },
  {
   "cell_type": "code",
   "execution_count": null,
   "metadata": {},
   "outputs": [],
   "source": [
    "# rotations\n",
    "analysis.plot_euler(euler[:,0],euler[:,1], euler[:,2])"
   ]
  },
  {
   "cell_type": "code",
   "execution_count": null,
   "metadata": {},
   "outputs": [],
   "source": [
    "# translations\n",
    "sns.jointplot(x=trans[:,0],\n",
    "              y=trans[:,1],\n",
    "              kind='hex').set_axis_labels('tx (fraction)','ty (fraction)')"
   ]
  },
  {
   "cell_type": "markdown",
   "metadata": {},
   "source": [
    "### Learning curve"
   ]
  },
  {
   "cell_type": "code",
   "execution_count": null,
   "metadata": {},
   "outputs": [],
   "source": [
    "loss = analysis.parse_loss(f'{WORKDIR}/run.log')\n",
    "plt.plot(loss)\n",
    "plt.xlabel('epoch')\n",
    "plt.ylabel('loss')"
   ]
  },
  {
   "cell_type": "markdown",
   "metadata": {},
   "source": [
    "### PCA"
   ]
  },
  {
   "cell_type": "code",
   "execution_count": null,
   "metadata": {},
   "outputs": [],
   "source": [
    "pc, pca = analysis.run_pca(z)"
   ]
  },
  {
   "cell_type": "code",
   "execution_count": null,
   "metadata": {},
   "outputs": [],
   "source": [
    "g = sns.jointplot(x=pc[:,0], y=pc[:,1], alpha=.1, s=1)\n",
    "g.set_axis_labels('PC1', 'PC2')"
   ]
  },
  {
   "cell_type": "code",
   "execution_count": null,
   "metadata": {},
   "outputs": [],
   "source": [
    "g = sns.jointplot(x=pc[:,0], y=pc[:,1], kind='hex')\n",
    "g.set_axis_labels('PC1', 'PC2')"
   ]
  },
  {
   "cell_type": "code",
   "execution_count": null,
   "metadata": {},
   "outputs": [],
   "source": [
    "plt.bar(np.arange(z.shape[1])+1,pca.explained_variance_ratio_)\n",
    "plt.xticks(np.arange(z.shape[1])+1)\n",
    "plt.xlabel('PC')\n",
    "plt.ylabel('explained variance')"
   ]
  },
  {
   "cell_type": "markdown",
   "metadata": {},
   "source": [
    "### UMAP"
   ]
  },
  {
   "cell_type": "code",
   "execution_count": null,
   "metadata": {},
   "outputs": [],
   "source": [
    "g = sns.jointplot(x=umap[:,0], y=umap[:,1], alpha=.1, s=1)\n",
    "g.set_axis_labels('UMAP1', 'UMAP2')"
   ]
  },
  {
   "cell_type": "code",
   "execution_count": null,
   "metadata": {},
   "outputs": [],
   "source": [
    "g = sns.jointplot(x=umap[:,0], y=umap[:,1], kind='hex')\n",
    "g.set_axis_labels('UMAP1', 'UMAP2')"
   ]
  },
  {
   "cell_type": "markdown",
   "metadata": {},
   "source": [
    "# Filter by clustering\n",
    "\n",
    "Select particles based on k-means cluster labels or GMM cluster labels"
   ]
  },
  {
   "cell_type": "markdown",
   "metadata": {},
   "source": [
    "### View K-means clusters"
   ]
  },
  {
   "cell_type": "code",
   "execution_count": null,
   "metadata": {},
   "outputs": [],
   "source": [
    "# Optionally, re-run kmeans with the desired number of classes\n",
    "#K = 20\n",
    "#kmeans_labels, kmeans_centers = analysis.cluster_kmeans(z, K)"
   ]
  },
  {
   "cell_type": "code",
   "execution_count": null,
   "metadata": {},
   "outputs": [],
   "source": [
    "K = len(set(kmeans_labels))\n",
    "c = pca.transform(kmeans_centers) # transform to view with PCs\n",
    "analysis.plot_by_cluster(pc[:,0], pc[:,1], K, \n",
    "                         kmeans_labels, \n",
    "                         centers=c,\n",
    "                         annotate=True)\n",
    "plt.xlabel('PC1')\n",
    "plt.ylabel('PC2')"
   ]
  },
  {
   "cell_type": "code",
   "execution_count": null,
   "metadata": {},
   "outputs": [],
   "source": [
    "fig, ax = analysis.plot_by_cluster_subplot(pc[:,0], pc[:,1], K, \n",
    "                            kmeans_labels)"
   ]
  },
  {
   "cell_type": "code",
   "execution_count": null,
   "metadata": {},
   "outputs": [],
   "source": [
    "analysis.plot_by_cluster(umap[:,0], umap[:,1], K, \n",
    "                         kmeans_labels, \n",
    "                         centers_ind=centers_ind,\n",
    "                         annotate=True)\n",
    "plt.xlabel('UMAP1')\n",
    "plt.ylabel('UMAP2')"
   ]
  },
  {
   "cell_type": "code",
   "execution_count": null,
   "metadata": {},
   "outputs": [],
   "source": [
    "fig, ax = analysis.plot_by_cluster_subplot(umap[:,0], umap[:,1], K, \n",
    "                            kmeans_labels)"
   ]
  },
  {
   "cell_type": "markdown",
   "metadata": {},
   "source": [
    "**Select particles based on k-means clustering**"
   ]
  },
  {
   "cell_type": "code",
   "execution_count": null,
   "metadata": {},
   "outputs": [],
   "source": [
    "cluster_ids = [0,2] # set clusters to select, 0 and 2 in this example\n",
    "ind_selected = select_clusters(kmeans_labels, cluster_ids)\n",
    "ind_selected_not = invert_selection(ind_selected)\n",
    "print('Selected indices:')\n",
    "print(ind_selected)\n",
    "print('Number of selected points:')\n",
    "print(len(ind_selected))\n",
    "print('Number of unselected points:')\n",
    "print(len(ind_selected_not))"
   ]
  },
  {
   "cell_type": "code",
   "execution_count": null,
   "metadata": {},
   "outputs": [],
   "source": [
    "# View PCA\n",
    "plt.scatter(pc[:,0], pc[:,1], alpha=.1, s=1)\n",
    "plt.scatter(pc[ind_selected,0], pc[ind_selected,1], alpha=.1, s=1)\n",
    "plt.xlabel('PC1 ({:.2f})'.format(pca.explained_variance_ratio_[0]))\n",
    "plt.ylabel('PC2 ({:.2f})'.format(pca.explained_variance_ratio_[1]))"
   ]
  },
  {
   "cell_type": "code",
   "execution_count": null,
   "metadata": {},
   "outputs": [],
   "source": [
    "# View umap\n",
    "plt.scatter(umap[:,0], umap[:,1], alpha=.1, s=1)\n",
    "plt.scatter(umap[ind_selected,0], umap[ind_selected,1], alpha=.1, s=1)\n",
    "plt.xlabel('UMAP1')\n",
    "plt.ylabel('UMAP2')"
   ]
  },
  {
   "cell_type": "markdown",
   "metadata": {},
   "source": [
    "### GMM-clustering"
   ]
  },
  {
   "cell_type": "code",
   "execution_count": null,
   "metadata": {},
   "outputs": [],
   "source": [
    "G = 3 # or change to desired cluster number\n",
    "random_state = np.random.randint(100000) # sample random integer\n",
    "print(f'Random state: {random_state}')\n",
    "gmm_labels, gmm_centers = analysis.cluster_gmm(z, G, random_state=random_state)\n",
    "gmm_centers, gmm_centers_ind = analysis.get_nearest_point(z, gmm_centers)"
   ]
  },
  {
   "cell_type": "code",
   "execution_count": null,
   "metadata": {},
   "outputs": [],
   "source": [
    "analysis.plot_by_cluster(pc[:,0], pc[:,1], G, \n",
    "                         gmm_labels, \n",
    "                         centers_ind=gmm_centers_ind,\n",
    "                         annotate=True)\n",
    "plt.xlabel('PC1')\n",
    "plt.ylabel('PC2')"
   ]
  },
  {
   "cell_type": "code",
   "execution_count": null,
   "metadata": {},
   "outputs": [],
   "source": [
    "fig, ax = analysis.plot_by_cluster_subplot(pc[:,0], pc[:,1], G, gmm_labels)"
   ]
  },
  {
   "cell_type": "code",
   "execution_count": null,
   "metadata": {},
   "outputs": [],
   "source": [
    "analysis.plot_by_cluster(umap[:,0], umap[:,1], G, \n",
    "                         gmm_labels, \n",
    "                         centers_ind=gmm_centers_ind,\n",
    "                         annotate=True)\n",
    "plt.xlabel('UMAP1')\n",
    "plt.ylabel('UMAP2')"
   ]
  },
  {
   "cell_type": "code",
   "execution_count": null,
   "metadata": {},
   "outputs": [],
   "source": [
    "fig, ax = analysis.plot_by_cluster_subplot(umap[:,0], umap[:,1], G, gmm_labels)"
   ]
  },
  {
   "cell_type": "markdown",
   "metadata": {},
   "source": [
    "**Select particles based on GMM-means clustering**"
   ]
  },
  {
   "cell_type": "code",
   "execution_count": null,
   "metadata": {},
   "outputs": [],
   "source": [
    "cluster_ids = [0,2] # set clusters to select, 0 and 2 in this example\n",
    "ind_selected = select_clusters(gmm_labels, cluster_ids)\n",
    "ind_selected_not = invert_selection(ind_selected)\n",
    "print('Selected indices:')\n",
    "print(ind_selected)\n",
    "print('Number of selected points:')\n",
    "print(len(ind_selected))\n",
    "print('Number of unselected points:')\n",
    "print(len(ind_selected_not))"
   ]
  },
  {
   "cell_type": "code",
   "execution_count": null,
   "metadata": {},
   "outputs": [],
   "source": [
    "# View PCA\n",
    "plt.scatter(pc[:,0], pc[:,1], alpha=.1, s=1)\n",
    "plt.scatter(pc[ind_selected,0], pc[ind_selected,1], alpha=.1, s=1)\n",
    "plt.xlabel('PC1 ({:.2f})'.format(pca.explained_variance_ratio_[0]))\n",
    "plt.ylabel('PC2 ({:.2f})'.format(pca.explained_variance_ratio_[1]))"
   ]
  },
  {
   "cell_type": "code",
   "execution_count": null,
   "metadata": {},
   "outputs": [],
   "source": [
    "# View umap\n",
    "plt.scatter(umap[:,0], umap[:,1], alpha=.1, s=1)\n",
    "plt.scatter(umap[ind_selected,0], umap[ind_selected,1], alpha=.1, s=1)\n",
    "plt.xlabel('UMAP1')\n",
    "plt.ylabel('UMAP2')"
   ]
  },
  {
   "cell_type": "markdown",
   "metadata": {},
   "source": [
    "# Filter outlier particles"
   ]
  },
  {
   "cell_type": "code",
   "execution_count": null,
   "metadata": {},
   "outputs": [],
   "source": [
    "# Compute magnitude of latent encodings\n",
    "znorm = np.sum(z**2,axis=1)**.5"
   ]
  },
  {
   "cell_type": "code",
   "execution_count": null,
   "metadata": {},
   "outputs": [],
   "source": [
    "# Distribution of ||z||\n",
    "sns.distplot(znorm, kde=False)\n",
    "plt.xlabel('||z||')"
   ]
  },
  {
   "cell_type": "code",
   "execution_count": null,
   "metadata": {},
   "outputs": [],
   "source": [
    "# By default, identify particles with ||z|| 2 std deviations above mean\n",
    "zscore = 2\n",
    "thresh = znorm.mean()+zscore*znorm.std()\n",
    "print(f'Mean: {znorm.mean()}, Std: {znorm.std()}, Selected threshold: {thresh}')"
   ]
  },
  {
   "cell_type": "code",
   "execution_count": null,
   "metadata": {},
   "outputs": [],
   "source": [
    "ind_outliers = np.where(znorm >= thresh)[0]\n",
    "ind_outliers_not = invert_selection(ind_outliers)\n",
    "\n",
    "print('Selected indices:')\n",
    "print(ind_outliers)\n",
    "print('Number of selected points:')\n",
    "print(len(ind_outliers))\n",
    "print('Number of unselected points:')\n",
    "print(len(ind_outliers_not))"
   ]
  },
  {
   "cell_type": "code",
   "execution_count": null,
   "metadata": {},
   "outputs": [],
   "source": [
    "g = sns.distplot(znorm, kde=False)\n",
    "plt.axvline(x=thresh)\n",
    "plt.xlabel('||z||')\n",
    "plt.title('Magnitude of particle latent encodings')"
   ]
  },
  {
   "cell_type": "code",
   "execution_count": null,
   "metadata": {},
   "outputs": [],
   "source": [
    "# View PCA\n",
    "plt.scatter(pc[:,0], pc[:,1], alpha=.1, s=1)\n",
    "plt.scatter(pc[ind_outliers,0], pc[ind_outliers,1], alpha=.1, s=1)\n",
    "plt.xlabel('PC1 ({:.2f})'.format(pca.explained_variance_ratio_[0]))\n",
    "plt.ylabel('PC2 ({:.2f})'.format(pca.explained_variance_ratio_[1]))\n",
    "plt.title(f'Particles with ||z|| > {thresh}')"
   ]
  },
  {
   "cell_type": "code",
   "execution_count": null,
   "metadata": {},
   "outputs": [],
   "source": [
    "# View UMAP\n",
    "plt.scatter(umap[:,0], umap[:,1], alpha=.1, s=1)\n",
    "plt.scatter(umap[ind_outliers,0], umap[ind_outliers,1], alpha=.1, s=1)\n",
    "plt.xlabel('UMAP1')\n",
    "plt.ylabel('UMAP2')\n",
    "plt.title(f'Particles with ||z|| > {thresh}')"
   ]
  },
  {
   "cell_type": "code",
   "execution_count": null,
   "metadata": {},
   "outputs": [],
   "source": [
    "# Assign variables for viz/saving cells at the end of the notebook\n",
    "ind_selected = ind_outliers\n",
    "ind_selected_not = ind_outliers_not"
   ]
  },
  {
   "cell_type": "markdown",
   "metadata": {},
   "source": [
    "# Interactive visualization\n",
    "\n",
    "Interactive visualization of the latent encodings for the trained model. Each point represents a particle image of the dataset. The hover text includes the index of the image in the particle stack. "
   ]
  },
  {
   "cell_type": "code",
   "execution_count": null,
   "metadata": {},
   "outputs": [],
   "source": [
    "# Load data into a pandas dataframe\n",
    "df = analysis.load_dataframe(z=z, \n",
    "                             pc=pc, \n",
    "                             euler=euler, \n",
    "                             trans=trans, \n",
    "                             labels=kmeans_labels, \n",
    "                             umap=umap,\n",
    "                             df1=ctf_params[:,2],\n",
    "                             df2=ctf_params[:,3],\n",
    "                             dfang=ctf_params[:,4],\n",
    "                             phase=ctf_params[:,8],\n",
    "                             znorm=znorm)\n",
    "df.head()"
   ]
  },
  {
   "cell_type": "markdown",
   "metadata": {},
   "source": [
    "### Interactive selection\n",
    "\n",
    "The next two cells contain helper code to select particles using an interactive lasso tool. \n",
    "\n",
    "1. In the first cell, select points with the lasso tool. The table widget is dynamically updated with the most recent selection's indices. \n",
    "2. Then once you've finalized your selection, **run the next cell** to save the particle indices for downstream analysis/viz.\n",
    "\n",
    "(Double click to clear selection)"
   ]
  },
  {
   "cell_type": "code",
   "execution_count": null,
   "metadata": {},
   "outputs": [],
   "source": [
    "widget, fig, ind_table = analysis.ipy_plot_interactive(df)\n",
    "VBox((widget,fig,ind_table))"
   ]
  },
  {
   "cell_type": "code",
   "execution_count": null,
   "metadata": {},
   "outputs": [],
   "source": [
    "ind_selected = ind_table.data[0].cells.values[0] # save table values\n",
    "ind_selected = np.array(ind_selected)\n",
    "ind_selected_not = invert_selection(ind_selected)\n",
    "\n",
    "print('Selected indices:')\n",
    "print(ind_selected)\n",
    "print('Number of selected points:')\n",
    "print(len(ind_selected))\n",
    "print('Number of unselected points:')\n",
    "print(len(ind_selected_not))"
   ]
  },
  {
   "cell_type": "code",
   "execution_count": null,
   "metadata": {},
   "outputs": [],
   "source": [
    "# View PCA\n",
    "plt.scatter(pc[:,0], pc[:,1], alpha=.1, s=1)\n",
    "plt.scatter(pc[ind_selected,0], pc[ind_selected,1], alpha=.1, s=1)\n",
    "plt.xlabel('PC1 ({:.2f})'.format(pca.explained_variance_ratio_[0]))\n",
    "plt.ylabel('PC2 ({:.2f})'.format(pca.explained_variance_ratio_[1]))"
   ]
  },
  {
   "cell_type": "code",
   "execution_count": null,
   "metadata": {},
   "outputs": [],
   "source": [
    "# View umap\n",
    "plt.scatter(umap[:,0], umap[:,1], alpha=.1, s=1)\n",
    "plt.scatter(umap[ind_selected,0], umap[ind_selected,1], alpha=.1, s=1)\n",
    "plt.xlabel('UMAP1')\n",
    "plt.ylabel('UMAP2')"
   ]
  },
  {
   "cell_type": "markdown",
   "metadata": {},
   "source": [
    "# View particles\n",
    "\n",
    "View images from selected particles"
   ]
  },
  {
   "cell_type": "code",
   "execution_count": null,
   "metadata": {},
   "outputs": [],
   "source": [
    "particle_ind = ind_selected # or set to custom selection"
   ]
  },
  {
   "cell_type": "code",
   "execution_count": null,
   "metadata": {},
   "outputs": [],
   "source": [
    "# Choose 9 particles to view at random\n",
    "if len(particle_ind) > 9:\n",
    "    ind_subset9 = np.random.choice(particle_ind, 9, replace=False)\n",
    "else: \n",
    "    ind_subset9 = particle_ind\n",
    "print(ind_subset9)"
   ]
  },
  {
   "cell_type": "code",
   "execution_count": null,
   "metadata": {},
   "outputs": [],
   "source": [
    "p = [particles[ii].get() for ii in ind_subset9]\n",
    "_ = analysis.plot_projections(p, ind_subset9)\n",
    "\n",
    "plt.figure()\n",
    "plt.scatter(umap[:,0], umap[:,1], alpha=.1, s=1)\n",
    "plt.scatter(umap[ind_subset9,0], umap[ind_subset9,1], color='k')\n",
    "plt.xlabel('UMAP1')\n",
    "plt.ylabel('UMAP2')"
   ]
  },
  {
   "cell_type": "markdown",
   "metadata": {},
   "source": [
    "# Save selection\n",
    "\n",
    "Save the particle indices for the selected (`ind_selected`) and unselected particles (`ind_selected_not`) as a .pkl file for downstream processing in cryoDRGN or with other tools.\n",
    "\n",
    "Rename the paths as desired. Note that the indices will be automatically converted if the current cryoDRGN training run has already been filtered (`ind_orig` loaded in an earlier cell)."
   ]
  },
  {
   "cell_type": "code",
   "execution_count": null,
   "metadata": {},
   "outputs": [],
   "source": [
    "# Set selection as either the kept or bad particles (for file naming purposes)\n",
    "ind_keep = ind_selected # or ind_selected_not\n",
    "ind_bad = ind_selected_not # or ind_selected"
   ]
  },
  {
   "cell_type": "code",
   "execution_count": null,
   "metadata": {},
   "outputs": [],
   "source": [
    "# View PCA\n",
    "plt.scatter(pc[:,0], pc[:,1], alpha=.1, s=1)\n",
    "plt.scatter(pc[ind_keep,0], pc[ind_keep,1], alpha=.1, s=1)\n",
    "plt.xlabel('PC1 ({:.2f})'.format(pca.explained_variance_ratio_[0]))\n",
    "plt.ylabel('PC2 ({:.2f})'.format(pca.explained_variance_ratio_[1]))"
   ]
  },
  {
   "cell_type": "code",
   "execution_count": null,
   "metadata": {},
   "outputs": [],
   "source": [
    "# View UMAP\n",
    "plt.scatter(umap[:,0], umap[:,1], alpha=.1, s=1)\n",
    "plt.scatter(umap[ind_keep,0], umap[ind_keep,1], alpha=.1, s=1)\n",
    "plt.xlabel('UMAP1')\n",
    "plt.ylabel('UMAP2')"
   ]
  },
  {
   "cell_type": "code",
   "execution_count": null,
   "metadata": {},
   "outputs": [],
   "source": [
    "print('Kept particle indices:')\n",
    "print(ind_keep)\n",
    "print('Number of kept particles:')\n",
    "print(len(ind_keep))\n",
    "print('Number of bad particles:')\n",
    "print(len(ind_bad))"
   ]
  },
  {
   "cell_type": "code",
   "execution_count": null,
   "metadata": {},
   "outputs": [],
   "source": [
    "# Path to save index .pkl for selected particles\n",
    "SAVE_PATH = f'{WORKDIR}/ind_keep.{len(ind_keep)}_particles.pkl'\n",
    "save_selection(SAVE_PATH, ind_keep)"
   ]
  },
  {
   "cell_type": "code",
   "execution_count": null,
   "metadata": {},
   "outputs": [],
   "source": [
    "# Path to save index .pkl for non-selected particles\n",
    "SAVE_PATH = f'{WORKDIR}/ind_bad.{len(ind_bad)}_particles.pkl'\n",
    "save_selection(SAVE_PATH, ind_bad)"
   ]
  }
 ],
 "metadata": {
  "kernelspec": {
   "display_name": "Python 3",
   "language": "python",
   "name": "python3"
  },
  "language_info": {
   "codemirror_mode": {
    "name": "ipython",
    "version": 3
   },
   "file_extension": ".py",
   "mimetype": "text/x-python",
   "name": "python",
   "nbconvert_exporter": "python",
   "pygments_lexer": "ipython3",
   "version": "3.7.3"
  }
 },
 "nbformat": 4,
 "nbformat_minor": 2
}
