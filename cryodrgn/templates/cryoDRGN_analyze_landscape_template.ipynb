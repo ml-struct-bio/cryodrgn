{
 "cells": [
  {
   "cell_type": "markdown",
   "metadata": {},
   "source": [
    "# CryoDRGN landscape analysis\n",
    "\n",
    "This jupyter notebook contains additional functions to visualize the results of `cryodrgn analyze_landscape` and `cryodrgn analyze_landscape_full`."
   ]
  },
  {
   "cell_type": "code",
   "execution_count": null,
   "metadata": {},
   "outputs": [],
   "source": [
    "import numpy as np\n",
    "import pickle\n",
    "import subprocess\n",
    "import os, sys\n",
    "\n",
    "from cryodrgn.mrcfile import parse_mrc, write_mrc\n",
    "from cryodrgn import analysis\n",
    "from cryodrgn import utils\n",
    "from cryodrgn import dataset\n",
    "from cryodrgn import ctf\n",
    " \n",
    "import matplotlib.pyplot as plt\n",
    "import seaborn as sns\n",
    "import plotly.graph_objs as go\n",
    "import plotly.offline as py\n",
    "from ipywidgets import interact, interactive, HBox, VBox\n",
    "from scipy.spatial.transform import Rotation as RR\n",
    "py.init_notebook_mode()\n",
    "from IPython.display import FileLink, FileLinks\n",
    "\n",
    "from sklearn.decomposition import PCA\n",
    "from sklearn.cluster import AgglomerativeClustering\n",
    "from scipy.spatial.distance import cdist\n",
    "\n",
    "import matplotlib.ticker as ticker\n",
    "import matplotlib.patches as mpatches\n",
    "import matplotlib.gridspec as gridspec"
   ]
  },
  {
   "cell_type": "markdown",
   "metadata": {},
   "source": [
    "### Set parameters"
   ]
  },
  {
   "cell_type": "code",
   "execution_count": null,
   "metadata": {},
   "outputs": [],
   "source": [
    "EPOCH = None  # change me if necessary!\n",
    "WORKDIR = None  # Directory with cryoDRGN outputs\n",
    "\n",
    "K = None  # Number of sketched volumes\n",
    "M = None  # Number of clusters\n",
    "linkage = None  # Linkage method used for clustering"
   ]
  },
  {
   "cell_type": "code",
   "execution_count": null,
   "metadata": {},
   "outputs": [],
   "source": [
    "# landscape analysis directory\n",
    "landscape_dir = f'{WORKDIR}/landscape.{EPOCH}'\n",
    "\n",
    "# subdirectories with clustering analysis and volume mapping\n",
    "clustering_dir = os.path.join(landscape_dir, f\"sketch_clustering_{linkage}_{M}\")\n",
    "landscape_full_dir = os.path.join(landscape_dir, \"landscape_full\")"
   ]
  },
  {
   "cell_type": "markdown",
   "metadata": {},
   "source": [
    "### Load data"
   ]
  },
  {
   "cell_type": "code",
   "execution_count": null,
   "metadata": {},
   "outputs": [],
   "source": [
    "z = utils.load_pkl(f'{WORKDIR}/z.{EPOCH}.pkl')\n",
    "z_pc = PCA(z.shape[1]).fit_transform(z)\n",
    "umap = utils.load_pkl(f'{landscape_dir}/umap.pkl')\n",
    "centers_ind = np.loadtxt(f'{landscape_dir}/kmeans{K}/centers_ind.txt').astype(int)"
   ]
  },
  {
   "cell_type": "code",
   "execution_count": null,
   "metadata": {},
   "outputs": [],
   "source": [
    "mask = parse_mrc(f'{landscape_dir}/mask.mrc')\n",
    "mask = mask[0].astype(bool)\n",
    "print(f'{mask.sum()} out of {np.prod(mask.shape)} voxels included in mask')"
   ]
  },
  {
   "cell_type": "code",
   "execution_count": null,
   "metadata": {},
   "outputs": [],
   "source": [
    "vol_pc = utils.load_pkl(f'{landscape_dir}/vol_pca_{K}.pkl')\n",
    "vol_pca = utils.load_pkl(f'{landscape_dir}/vol_pca_obj.pkl')\n",
    "vol_pc_all = utils.load_pkl(f'{landscape_full_dir}/vol_pca_all.pkl')"
   ]
  },
  {
   "cell_type": "code",
   "execution_count": null,
   "metadata": {},
   "outputs": [],
   "source": [
    "kmeans_labels = utils.load_pkl(f'{landscape_dir}/kmeans{K}/labels.pkl')\n",
    "labels = utils.load_pkl(f'{clustering_dir}/state_labels.pkl')"
   ]
  },
  {
   "cell_type": "markdown",
   "metadata": {},
   "source": [
    "### Optionally reanalyze volume data\n",
    "\n",
    "\n"
   ]
  },
  {
   "cell_type": "code",
   "execution_count": null,
   "metadata": {},
   "outputs": [],
   "source": [
    "# Load volumes\n",
    "'''\n",
    "volm, _ = parse_mrc(f'kmeans{K}/vol_mean.mrc')\n",
    "vols = np.array([parse_mrc(f'kmeans{K}/vol_{i:03d}.mrc')[0][mask] for i in range(K)])\n",
    "vols.shape\n",
    "vols[vols<0]=0\n",
    "'''"
   ]
  },
  {
   "cell_type": "code",
   "execution_count": null,
   "metadata": {},
   "outputs": [],
   "source": [
    "# Rerun volume PCA\n",
    "'''\n",
    "pca = PCA(50)\n",
    "pca.fit(vols)\n",
    "vol_pc = pca.transform(vols)\n",
    "'''"
   ]
  },
  {
   "cell_type": "code",
   "execution_count": null,
   "metadata": {},
   "outputs": [],
   "source": [
    "# Save out volume PCs\n",
    "'''\n",
    "mkdir volume_pcs\n",
    "'''"
   ]
  },
  {
   "cell_type": "code",
   "execution_count": null,
   "metadata": {},
   "outputs": [],
   "source": [
    "'''\n",
    "!for i in {1..5}; do mkdir volume_pcs/pc$i; done\n",
    "'''"
   ]
  },
  {
   "cell_type": "code",
   "execution_count": null,
   "metadata": {},
   "outputs": [],
   "source": [
    "# Save first 5 volume PCs\n",
    "'''\n",
    "for i in range(5):\n",
    "    min_, max_ = pc[:,i].min(), pc[:,i].max()\n",
    "    print(min_, max_)\n",
    "    for j, a in enumerate(np.linspace(min_,max_,10,endpoint=True)):\n",
    "        v = volm.copy()\n",
    "        v[mask] += pca.components_[i]*a\n",
    "        write_mrc(f'volume_pcs/pc{i+1}/{j}.mrc', v)\n",
    "'''"
   ]
  },
  {
   "cell_type": "code",
   "execution_count": null,
   "metadata": {},
   "outputs": [],
   "source": [
    "# Rerun clustering\n",
    "'''\n",
    "cluster = AgglomerativeClustering(n_clusters=10, affinity='euclidean', linkage='average')\n",
    "labels = cluster.fit_predict(vols)\n",
    "'''"
   ]
  },
  {
   "cell_type": "markdown",
   "metadata": {},
   "source": [
    "# Plotting"
   ]
  },
  {
   "cell_type": "code",
   "execution_count": 1,
   "metadata": {},
   "outputs": [],
   "source": [
    "save_pdf = False"
   ]
  },
  {
   "cell_type": "markdown",
   "metadata": {},
   "source": [
    "### Scree plot for volume PCA"
   ]
  },
  {
   "cell_type": "code",
   "execution_count": null,
   "metadata": {},
   "outputs": [],
   "source": [
    "explained_variance_ratio = vol_pca.explained_variance_ratio_\n",
    "cumulative_variance = np.cumsum(explained_variance_ratio)\n",
    "\n",
    "# percent\n",
    "explained_variance_ratio_percent = explained_variance_ratio * 100\n",
    "cumulative_variance_percent = cumulative_variance * 100\n",
    "\n",
    "# plot EV\n",
    "plt.figure(figsize=(10, 6))\n",
    "plt.plot(range(1, len(explained_variance_ratio) + 1), explained_variance_ratio_percent, marker='o', linestyle='--')\n",
    "plt.xlabel('Principal Component')\n",
    "plt.ylabel('Explained Variance Ratio (%)')\n",
    "plt.title('Scree Plot for Volume PCA')\n",
    "\n",
    "# x-axis ticks\n",
    "plt.xticks(range(1, len(explained_variance_ratio) + 1))\n",
    "\n",
    "# Plot cumulative EV\n",
    "ax2 = plt.gca().twinx()\n",
    "ax2.plot(range(1, len(cumulative_variance_percent) + 1), cumulative_variance_percent, marker='o', color='gray', linestyle='-')\n",
    "ax2.set_ylabel('Cumulative Explained Variance (%)')\n",
    "\n",
    "if save_pdf:\n",
    "    plt.savefig('volpca_scree.pdf')"
   ]
  },
  {
   "cell_type": "markdown",
   "metadata": {},
   "source": [
    "### Plot landscape"
   ]
  },
  {
   "cell_type": "code",
   "execution_count": null,
   "metadata": {},
   "outputs": [],
   "source": [
    "i, j = 0,1\n",
    "sns.jointplot(x=vol_pc[:,i], y=vol_pc[:,j])\n",
    "if save_pdf:\n",
    "    plt.savefig('volpca_sketch.pdf')"
   ]
  },
  {
   "cell_type": "code",
   "execution_count": null,
   "metadata": {},
   "outputs": [],
   "source": [
    "i, j = 0,1\n",
    "g = sns.jointplot(x=vol_pc_all[:,i], y=vol_pc_all[:,j], kind='hex', height=8)\n",
    "plt.subplots_adjust(left=0.2, right=0.8, top=0.8, bottom=0.2)  # shrink fig so cbar is visible\n",
    "# make new ax object for the cbar\n",
    "cbar_ax = g.fig.add_axes([.85, .25, .03, .4])  # x, y, width, height\n",
    "plt.colorbar(cax=cbar_ax)\n",
    "if save_pdf:\n",
    "    plt.savefig('volpca_landscape.pdf')"
   ]
  },
  {
   "cell_type": "code",
   "execution_count": null,
   "metadata": {},
   "outputs": [],
   "source": [
    "# Plot landscape -- energy scale\n",
    "i, j = 0,1\n",
    "g = sns.jointplot(x=vol_pc_all[:,i], y=vol_pc_all[:,j], kind='hex', height=8,\n",
    "                  cmap='jet_r', bins='log', mincnt=1)\n",
    "\n",
    "plt.subplots_adjust(left=0.2, right=0.8, top=0.8, bottom=0.2)  # shrink fig so cbar is visible\n",
    "# make new ax object for the cbar\n",
    "cbar_ax = g.fig.add_axes([.85, .25, .03, .4])  # x, y, width, height\n",
    "plt.colorbar(cax=cbar_ax)\n",
    "if save_pdf:\n",
    "    plt.savefig('volpca_landscape_energy.pdf')"
   ]
  },
  {
   "cell_type": "code",
   "execution_count": null,
   "metadata": {},
   "outputs": [],
   "source": [
    "# Grid plot landscape -- energy scale\n",
    "\n",
    "# Set up the triangular grid layout\n",
    "n_pcs = 5 # CHANGE ME IF NEEDED\n",
    "fig = plt.figure(figsize=(15, 15))\n",
    "gs = gridspec.GridSpec(n_pcs-1, n_pcs-1, wspace=0, hspace=0)\n",
    "\n",
    "# Define the color map and color bar axis\n",
    "cmap = 'jet_r'\n",
    "norm = plt.Normalize(vmin=0, vmax=5)\n",
    "cbar_ax = fig.add_axes([0.92, 0.25, 0.02, 0.5])  # Adjust position as needed\n",
    "\n",
    "# Loop over each subplot location in the triangular grid\n",
    "for i in range(1, n_pcs):\n",
    "    for j in range(i):            \n",
    "            \n",
    "        ax = fig.add_subplot(gs[i-1, j])\n",
    "\n",
    "        # Plot hexbin with color map and bins as log scale\n",
    "        hb = ax.hexbin(vol_pc_all[:, j], vol_pc_all[:, i], gridsize=50, cmap=cmap, bins='log', mincnt=1)\n",
    "        \n",
    "        # Only set labels for leftmost and bottom plots\n",
    "        if j == 0:\n",
    "            ax.set_ylabel(f'Volume PC{i+1} (EV: {vol_pca.explained_variance_ratio_[i]:.0%})',\n",
    "                          fontsize=14, fontweight='bold')\n",
    "\n",
    "        if i == n_pcs-1:\n",
    "            ax.set_xlabel(f'Volume PC{j+1} (EV: {vol_pca.explained_variance_ratio_[j]:.0%})',\n",
    "                          fontsize=14, fontweight='bold')\n",
    "        \n",
    "        # Exact values are not needed\n",
    "        ax.set_yticks([])\n",
    "        ax.set_xticks([])\n",
    "\n",
    "plt.colorbar(hb, cax=cbar_ax, label='Log Density')\n",
    "\n",
    "if save_pdf:\n",
    "    plt.savefig(f'volpca_grid{n_pcs}_landscape_energy.pdf')"
   ]
  },
  {
   "cell_type": "markdown",
   "metadata": {},
   "source": [
    "### Plot clusters"
   ]
  },
  {
   "cell_type": "code",
   "execution_count": null,
   "metadata": {},
   "outputs": [],
   "source": [
    "i, j = 0,1\n",
    "g = sns.jointplot(\n",
    "    x=vol_pc[:,i],\n",
    "    y=vol_pc[:,j],\n",
    "    hue=labels,\n",
    "    palette={i:f'C{i}' for i in sorted(np.unique(labels))}\n",
    ")\n",
    "if save_pdf:\n",
    "    plt.savefig('volpca_clusters.pdf')\n"
   ]
  },
  {
   "cell_type": "code",
   "execution_count": null,
   "metadata": {},
   "outputs": [],
   "source": [
    "i, j = 0,1\n",
    "g = sns.jointplot(x=vol_pc_all[:,i], y=vol_pc_all[:,j], kind='scatter', color='lightgrey', s=1, alpha=.1, rasterized=True)\n",
    "g.ax_joint.scatter(x=vol_pc[:,i], y=vol_pc[:,j], c=labels, cmap='tab10', s=25, edgecolor='white', linewidths=.25)\n",
    "if save_pdf:\n",
    "    plt.savefig('volpca_clusters_all.pdf')"
   ]
  },
  {
   "cell_type": "code",
   "execution_count": null,
   "metadata": {},
   "outputs": [],
   "source": [
    "# Set up the triangular grid layout\n",
    "n_pcs = 5  # CHANGE ME if needed\n",
    "fig = plt.figure(figsize=(15, 15))\n",
    "gs = gridspec.GridSpec(n_pcs-1, n_pcs-1, wspace=0, hspace=0)\n",
    "\n",
    "# Define the color map for cluster labels\n",
    "cmap = 'tab20'\n",
    "\n",
    "# Loop over each subplot location in the triangular grid\n",
    "for i in range(1, n_pcs):\n",
    "    for j in range(i):            \n",
    "        ax = fig.add_subplot(gs[i-1, j])\n",
    "\n",
    "        # Plot background scatter with light gray points\n",
    "        ax.scatter(vol_pc_all[:, j], vol_pc_all[:, i], color='lightgrey', s=1, alpha=0.1, rasterized=True)\n",
    "        \n",
    "        # Overlay labeled scatter points with color coding\n",
    "        sc = ax.scatter(vol_pc[:, j], vol_pc[:, i], c=labels, cmap=cmap, s=25, edgecolor='white', linewidths=0.25)\n",
    "\n",
    "        # Only set labels for leftmost and bottom plots\n",
    "        if j == 0:\n",
    "            ax.set_ylabel(f'Volume PC{i+1} (EV: {vol_pca.explained_variance_ratio_[i]:.0%})',\n",
    "                          fontsize=14, fontweight='bold')\n",
    "        if i == n_pcs-1:\n",
    "            ax.set_xlabel(f'Volume PC{j+1} (EV: {vol_pca.explained_variance_ratio_[j]:.0%})',\n",
    "                          fontsize=14, fontweight='bold')\n",
    "\n",
    "        # Remove ticks for cleaner look\n",
    "        ax.xaxis.set_major_locator(ticker.NullLocator())\n",
    "        ax.yaxis.set_major_locator(ticker.NullLocator())\n",
    "\n",
    "# Create a legend outside the grid\n",
    "unique_labels = np.unique(labels)\n",
    "colors = [sc.cmap(sc.norm(label)) for label in unique_labels]\n",
    "patches = [mpatches.Patch(color=colors[k], label=f'Cluster {unique_labels[k]}') for k in range(len(unique_labels))]\n",
    "fig.legend(handles=patches, fontsize=20)\n",
    "\n",
    "if save_pdf:\n",
    "    plt.savefig(f'volpca_grid{n_pcs}_clusters_all.pdf')"
   ]
  },
  {
   "cell_type": "markdown",
   "metadata": {},
   "source": [
    "### Plot latent space"
   ]
  },
  {
   "cell_type": "code",
   "execution_count": null,
   "metadata": {},
   "outputs": [],
   "source": [
    "i, j = 0,1\n",
    "cmap = 'tab10' # change if M != 10\n",
    "g = sns.jointplot(x=z_pc[:,i], y=z_pc[:,j], kind='scatter', color='lightgrey', s=1, alpha=.2, rasterized=True)\n",
    "g.ax_joint.scatter(x=z_pc[centers_ind,i], y=z_pc[centers_ind,j], c=labels, cmap=cmap, s=25, edgecolor='white', linewidths=.25)\n",
    "if save_pdf:\n",
    "    plt.savefig('zpca_clusters.pdf')"
   ]
  },
  {
   "cell_type": "code",
   "execution_count": null,
   "metadata": {},
   "outputs": [],
   "source": [
    "i, j = 0,1\n",
    "cmap = 'tab10' # change if M != 10\n",
    "g = sns.jointplot(x=umap[:,i], y=umap[:,j], kind='scatter', color='lightgrey', s=1, alpha=.2, rasterized=True)\n",
    "g.ax_joint.scatter(x=umap[centers_ind,i], y=umap[centers_ind,j], c=labels, cmap=cmap, s=25, edgecolor='white', linewidths=.25)\n",
    "if save_pdf:\n",
    "    plt.savefig('umap_clusters.pdf')"
   ]
  },
  {
   "cell_type": "markdown",
   "metadata": {},
   "source": [
    "### Cluster counts"
   ]
  },
  {
   "cell_type": "code",
   "execution_count": null,
   "metadata": {},
   "outputs": [],
   "source": [
    "from collections import Counter\n",
    "counts = Counter(labels)\n",
    "kmeans_counts = Counter(kmeans_labels)\n",
    "M = len(counts)"
   ]
  },
  {
   "cell_type": "code",
   "execution_count": null,
   "metadata": {},
   "outputs": [],
   "source": [
    "particle_counts = [np.sum([kmeans_counts[ii] for ii in np.where(labels == i)[0]]) for i in range(1, M + 1)]"
   ]
  },
  {
   "cell_type": "code",
   "execution_count": null,
   "metadata": {},
   "outputs": [],
   "source": [
    "plt.subplots(figsize=(6,5))\n",
    "x = np.arange(M)\n",
    "y = [counts[i] for i in range(1, M + 1)]\n",
    "g = sns.barplot(x=x,y=y)\n",
    "\n",
    "for i in range(len(counts)):\n",
    "    g.text(i-.2, y[i]+3, y[i])\n",
    "plt.xlabel('State')\n",
    "plt.ylabel('Volume count')\n",
    "plt.tight_layout()\n",
    "\n",
    "if save_pdf:\n",
    "    plt.savefig('volume_counts.pdf')\n"
   ]
  },
  {
   "cell_type": "code",
   "execution_count": null,
   "metadata": {},
   "outputs": [],
   "source": [
    "plt.subplots(figsize=(6,5))\n",
    "x = np.arange(M)\n",
    "y = particle_counts\n",
    "g = sns.barplot(x=x,y=y)\n",
    "\n",
    "for i in range(len(counts)):\n",
    "    g.text(i-.45, y[i]+1000, y[i])\n",
    "plt.xlabel('State')\n",
    "plt.ylabel('Particle count')\n",
    "plt.tight_layout()\n",
    "\n",
    "if save_pdf:\n",
    "    plt.savefig('particle_counts.pdf')\n"
   ]
  }
 ],
 "metadata": {
  "kernelspec": {
   "display_name": "Python 3 (ipykernel)",
   "language": "python",
   "name": "python3"
  },
  "language_info": {
   "codemirror_mode": {
    "name": "ipython",
    "version": 3
   },
   "file_extension": ".py",
   "mimetype": "text/x-python",
   "name": "python",
   "nbconvert_exporter": "python",
   "pygments_lexer": "ipython3",
   "version": "3.8.12"
  }
 },
 "nbformat": 4,
 "nbformat_minor": 4
}
