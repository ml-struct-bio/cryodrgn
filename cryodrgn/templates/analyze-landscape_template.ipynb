{
 "cells": [
  {
   "cell_type": "markdown",
   "metadata": {},
   "source": [
    "# CryoDRGN landscape analysis\n",
    "\n",
    "This jupyter notebook contains additional functions to visualize the results of `cryodrgn analyze_landscape` and `cryodrgn analyze_landscape_full`."
   ]
  },
  {
   "cell_type": "code",
   "execution_count": null,
   "metadata": {},
   "outputs": [],
   "source": [
    "import numpy as np\n",
    "import pickle\n",
    "import subprocess\n",
    "import os, sys\n",
    "\n",
    "from cryodrgn.mrcfile import parse_mrc\n",
    "from cryodrgn import analysis\n",
    "from cryodrgn import utils\n",
    "from cryodrgn import dataset\n",
    "from cryodrgn import ctf\n",
    " \n",
    "import matplotlib.pyplot as plt\n",
    "import seaborn as sns\n",
    "import plotly.graph_objs as go\n",
    "import plotly.offline as py\n",
    "from ipywidgets import interact, interactive, HBox, VBox\n",
    "from scipy.spatial.transform import Rotation as RR\n",
    "py.init_notebook_mode()\n",
    "from IPython.display import FileLink, FileLinks\n",
    "\n",
    "from sklearn.decomposition import PCA\n",
    "from sklearn.cluster import AgglomerativeClustering\n",
    "from scipy.spatial.distance import cdist"
   ]
  },
  {
   "cell_type": "markdown",
   "metadata": {},
   "source": [
    "### Set parameters"
   ]
  },
  {
   "cell_type": "code",
   "execution_count": null,
   "metadata": {},
   "outputs": [],
   "source": [
    "EPOCH = None  # change me if necessary!\n",
    "WORKDIR = None  # Directory with cryoDRGN outputs\n",
    "\n",
    "K = None  # Number of sketched volumes\n",
    "M = None  # Number of clusters\n",
    "linkage = None  # Linkage method used for clustering"
   ]
  },
  {
   "cell_type": "code",
   "execution_count": null,
   "metadata": {},
   "outputs": [],
   "source": [
    "# landscape analysis directory\n",
    "landscape_dir = f'{WORKDIR}/landscape.{EPOCH}'\n",
    "\n",
    "# subdirectories with clustering analysis and volume mapping\n",
    "clustering_dir = f'{landscape_dir}/clustering_L2_{linkage}_{M}'\n",
    "landscape_full_dir = f'{landscape_dir}/landscape_full'"
   ]
  },
  {
   "cell_type": "markdown",
   "metadata": {},
   "source": [
    "### Load data"
   ]
  },
  {
   "cell_type": "code",
   "execution_count": null,
   "metadata": {},
   "outputs": [],
   "source": [
    "z = utils.load_pkl(f'{WORKDIR}/z.{EPOCH}.pkl')\n",
    "z_pc = PCA(z.shape[1]).fit_transform(z)\n",
    "umap = utils.load_pkl(f'{landscape_dir}/umap.pkl')\n",
    "centers_ind = np.loadtxt(f'{landscape_dir}/kmeans{K}/centers_ind.txt').astype(int)"
   ]
  },
  {
   "cell_type": "code",
   "execution_count": null,
   "metadata": {},
   "outputs": [],
   "source": [
    "mask = parse_mrc(f'{landscape_dir}/mask.mrc')\n",
    "mask = mask[0].astype(bool)\n",
    "print(f'{mask.sum()} out of {np.prod(mask.shape)} voxels included in mask')"
   ]
  },
  {
   "cell_type": "code",
   "execution_count": null,
   "metadata": {},
   "outputs": [],
   "source": [
    "vol_pc = utils.load_pkl(f'{landscape_dir}/vol_pca_{K}.pkl')\n",
    "vol_pc_all = utils.load_pkl(f'{landscape_full_dir}/vol_pca_all.pkl')"
   ]
  },
  {
   "cell_type": "code",
   "execution_count": null,
   "metadata": {},
   "outputs": [],
   "source": [
    "kmeans_labels = utils.load_pkl(f'{landscape_dir}/kmeans{K}/labels.pkl')\n",
    "labels = utils.load_pkl(f'{clustering_dir}/state_labels.pkl')"
   ]
  },
  {
   "cell_type": "markdown",
   "metadata": {},
   "source": [
    "### Optionally reanalyze volume data\n",
    "\n",
    "\n"
   ]
  },
  {
   "cell_type": "code",
   "execution_count": null,
   "metadata": {},
   "outputs": [],
   "source": [
    "# Load volumes\n",
    "'''\n",
    "volm, _ = parse_mrc(f'kmeans{K}/vol_mean.mrc')\n",
    "vols = np.array([parse_mrc(f'kmeans{K}/vol_{i:03d}.mrc')[0][mask] for i in range(K)])\n",
    "vols.shape\n",
    "vols[vols<0]=0\n",
    "'''"
   ]
  },
  {
   "cell_type": "code",
   "execution_count": null,
   "metadata": {},
   "outputs": [],
   "source": [
    "# Rerun volume PCA\n",
    "'''\n",
    "pca = PCA(50)\n",
    "pca.fit(vols)\n",
    "vol_pc = pca.transform(vols)\n",
    "'''"
   ]
  },
  {
   "cell_type": "code",
   "execution_count": null,
   "metadata": {},
   "outputs": [],
   "source": [
    "# Save out volume PCs\n",
    "'''\n",
    "mkdir volume_pcs\n",
    "'''"
   ]
  },
  {
   "cell_type": "code",
   "execution_count": null,
   "metadata": {},
   "outputs": [],
   "source": [
    "'''\n",
    "!for i in {1..5}; do mkdir volume_pcs/pc$i; done\n",
    "'''"
   ]
  },
  {
   "cell_type": "code",
   "execution_count": null,
   "metadata": {},
   "outputs": [],
   "source": [
    "# Save first 5 volume PCs\n",
    "'''\n",
    "for i in range(5):\n",
    "    min_, max_ = pc[:,i].min(), pc[:,i].max()\n",
    "    print(min_, max_)\n",
    "    for j, a in enumerate(np.linspace(min_,max_,10,endpoint=True)):\n",
    "        v = volm.copy()\n",
    "        v[mask] += pca.components_[i]*a\n",
    "        mrc.write(f'volume_pcs/pc{i+1}/{j}.mrc', v)\n",
    "'''"
   ]
  },
  {
   "cell_type": "code",
   "execution_count": null,
   "metadata": {},
   "outputs": [],
   "source": [
    "# Rerun clustering\n",
    "'''\n",
    "cluster = AgglomerativeClustering(n_clusters=10, affinity='euclidean', linkage='average')\n",
    "labels = cluster.fit_predict(vols)\n",
    "'''"
   ]
  },
  {
   "cell_type": "markdown",
   "metadata": {},
   "source": [
    "# Plotting"
   ]
  },
  {
   "cell_type": "code",
   "execution_count": 1,
   "metadata": {},
   "outputs": [],
   "source": [
    "save_pdf = False"
   ]
  },
  {
   "cell_type": "markdown",
   "metadata": {},
   "source": [
    "### Plot landscape"
   ]
  },
  {
   "cell_type": "code",
   "execution_count": null,
   "metadata": {},
   "outputs": [],
   "source": [
    "i, j = 0,1\n",
    "sns.jointplot(x=vol_pc[:,i], y=vol_pc[:,j])\n",
    "if save_pdf:\n",
    "    plt.savefig('volpca_sketch.pdf')"
   ]
  },
  {
   "cell_type": "code",
   "execution_count": null,
   "metadata": {},
   "outputs": [],
   "source": [
    "i, j = 0,1\n",
    "g = sns.jointplot(x=vol_pc_all[:,i], y=vol_pc_all[:,j], kind='hex', height=8)\n",
    "plt.subplots_adjust(left=0.2, right=0.8, top=0.8, bottom=0.2)  # shrink fig so cbar is visible\n",
    "# make new ax object for the cbar\n",
    "cbar_ax = g.fig.add_axes([.85, .25, .03, .4])  # x, y, width, height\n",
    "plt.colorbar(cax=cbar_ax)\n",
    "if save_pdf:\n",
    "    plt.savefig('volpca_landscape.pdf')"
   ]
  },
  {
   "cell_type": "code",
   "execution_count": null,
   "metadata": {},
   "outputs": [],
   "source": [
    "# Plot landscape -- energy scale\n",
    "i, j = 0,1\n",
    "g = sns.jointplot(x=vol_pc_all[:,i], y=vol_pc_all[:,j], kind='hex', height=8,\n",
    "                  cmap='jet_r', bins='log', mincnt=1)\n",
    "\n",
    "plt.subplots_adjust(left=0.2, right=0.8, top=0.8, bottom=0.2)  # shrink fig so cbar is visible\n",
    "# make new ax object for the cbar\n",
    "cbar_ax = g.fig.add_axes([.85, .25, .03, .4])  # x, y, width, height\n",
    "plt.colorbar(cax=cbar_ax)\n",
    "if save_pdf:\n",
    "    plt.savefig('volpca_landscape_energy.pdf')"
   ]
  },
  {
   "cell_type": "markdown",
   "metadata": {},
   "source": [
    "### Plot clusters"
   ]
  },
  {
   "cell_type": "code",
   "execution_count": null,
   "metadata": {},
   "outputs": [],
   "source": [
    "i, j = 0,1\n",
    "g = sns.jointplot(x=vol_pc[:,i], y=vol_pc[:,j], hue=labels, palette={i:f'C{i}' for i in range(M)})\n",
    "if save_pdf:\n",
    "    plt.savefig('volpca_clusters.pdf')"
   ]
  },
  {
   "cell_type": "code",
   "execution_count": null,
   "metadata": {},
   "outputs": [],
   "source": [
    "i, j = 0,1\n",
    "g = sns.jointplot(x=vol_pc_all[:,i], y=vol_pc_all[:,j], kind='scatter', color='lightgrey', s=1, alpha=.1, rasterized=True)\n",
    "g.ax_joint.scatter(x=vol_pc[:,i], y=vol_pc[:,j], c=labels, cmap='tab10', s=25, edgecolor='white', linewidths=.25)\n",
    "if save_pdf:\n",
    "    plt.savefig('volpca_clusters_all.pdf')"
   ]
  },
  {
   "cell_type": "markdown",
   "metadata": {},
   "source": [
    "### Plot latent space"
   ]
  },
  {
   "cell_type": "code",
   "execution_count": null,
   "metadata": {},
   "outputs": [],
   "source": [
    "i, j = 0,1\n",
    "cmap = 'tab10' # change if M != 10\n",
    "g = sns.jointplot(x=z_pc[:,i], y=z_pc[:,j], kind='scatter', color='lightgrey', s=1, alpha=.2, rasterized=True)\n",
    "g.ax_joint.scatter(x=z_pc[centers_ind,i], y=z_pc[centers_ind,j], c=labels, cmap=cmap, s=25, edgecolor='white', linewidths=.25)\n",
    "if save_pdf:\n",
    "    plt.savefig('zpca_clusters.pdf')"
   ]
  },
  {
   "cell_type": "code",
   "execution_count": null,
   "metadata": {},
   "outputs": [],
   "source": [
    "i, j = 0,1\n",
    "cmap = 'tab10' # change if M != 10\n",
    "g = sns.jointplot(x=umap[:,i], y=umap[:,j], kind='scatter', color='lightgrey', s=1, alpha=.2, rasterized=True)\n",
    "g.ax_joint.scatter(x=umap[centers_ind,i], y=umap[centers_ind,j], c=labels, cmap=cmap, s=25, edgecolor='white', linewidths=.25)\n",
    "if save_pdf:\n",
    "    plt.savefig('umap_clusters.pdf')"
   ]
  },
  {
   "cell_type": "markdown",
   "metadata": {},
   "source": [
    "### Cluster counts"
   ]
  },
  {
   "cell_type": "code",
   "execution_count": null,
   "metadata": {},
   "outputs": [],
   "source": [
    "from collections import Counter\n",
    "counts = Counter(labels)\n",
    "kmeans_counts = Counter(kmeans_labels)\n",
    "M = len(counts)"
   ]
  },
  {
   "cell_type": "code",
   "execution_count": null,
   "metadata": {},
   "outputs": [],
   "source": [
    "particle_counts = [np.sum([kmeans_counts[ii] for ii in np.where(labels == i)[0]]) for i in range(M)]"
   ]
  },
  {
   "cell_type": "code",
   "execution_count": null,
   "metadata": {},
   "outputs": [],
   "source": [
    "plt.subplots(figsize=(6,5))\n",
    "x = np.arange(M)\n",
    "y = [counts[i] for i in range(M)]\n",
    "g = sns.barplot(x,y)\n",
    "for i in range(len(counts)):\n",
    "    g.text(i-.2, y[i]+3, y[i])\n",
    "plt.xlabel('State')\n",
    "plt.ylabel('Volume count')\n",
    "plt.tight_layout()\n",
    "if save_pdf:\n",
    "    plt.savefig('volume_counts.pdf')"
   ]
  },
  {
   "cell_type": "code",
   "execution_count": null,
   "metadata": {},
   "outputs": [],
   "source": [
    "plt.subplots(figsize=(6,5))\n",
    "x = np.arange(M)\n",
    "y = particle_counts\n",
    "g = sns.barplot(x,y)\n",
    "for i in range(len(counts)):\n",
    "    g.text(i-.45, y[i]+1000, y[i])\n",
    "plt.xlabel('State')\n",
    "plt.ylabel('Particle count')\n",
    "plt.tight_layout()\n",
    "if save_pdf:\n",
    "    plt.savefig('particle_counts.pdf')"
   ]
  }
 ],
 "metadata": {
  "kernelspec": {
   "display_name": "Python 3 (ipykernel)",
   "language": "python",
   "name": "python3"
  },
  "language_info": {
   "codemirror_mode": {
    "name": "ipython",
    "version": 3
   },
   "file_extension": ".py",
   "mimetype": "text/x-python",
   "name": "python",
   "nbconvert_exporter": "python",
   "pygments_lexer": "ipython3",
   "version": "3.8.12"
  }
 },
 "nbformat": 4,
 "nbformat_minor": 4
}
