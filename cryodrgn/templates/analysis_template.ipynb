{
 "cells": [
  {
   "cell_type": "markdown",
   "metadata": {
    "scrolled": false
   },
   "source": [
    "# CryoDRGN visualization and analysis\n",
    "\n",
    "This jupyter notebook provides a template for analyzing cryoDRGN results, including:\n",
    "* latent space visualization with PCA/UMAP\n",
    "* clustering of the latent space (k-means or Gaussian mixture model)\n",
    "* interactive visualization of the latent space, imaging, and pose parameters\n",
    "* outlier detection (Z-score)\n",
    "* interactive generation of volumes from the latent space\n",
    "\n",
    "Note that this is a simple template for data analysis, and not a polished UI. Experience with Python/Pandas is recommended.\n",
    "\n",
    "This notebook assumes that the latent variable dimension is > 1 (e.g. multidimensional plotting).\n",
    "\n",
    "For each filtering method, the selected particles are tracked in the variable, `ind_selected`.\n",
    "\n",
    "Once the selection has been finalized, the selected particles are saved as a `index.pkl` file at the end of\n",
    "this notebook. The selected indices can be provided to cryoDRGN with the `--ind` argument to train a new\n",
    "model on a subset of the images or converted to `.star` file format.\n",
    "\n",
    "For more information, see the tutorial on [Notion page]."
   ]
  },
  {
   "cell_type": "code",
   "execution_count": null,
   "metadata": {},
   "outputs": [],
   "source": [
    "import numpy as np\n",
    "import pickle\n",
    "import os\n",
    "\n",
    "from cryodrgn import analysis\n",
    "from cryodrgn import utils\n",
    "from cryodrgn import dataset\n",
    "from cryodrgn import ctf\n",
    "import cryodrgn.config\n",
    "\n",
    "import matplotlib.pyplot as plt\n",
    "import seaborn as sns\n",
    "from scipy.spatial.transform import Rotation as RR\n",
    "from ipywidgets import VBox"
   ]
  },
  {
   "cell_type": "markdown",
   "metadata": {},
   "source": [
    "### Load results"
   ]
  },
  {
   "cell_type": "code",
   "execution_count": null,
   "metadata": {
    "scrolled": false
   },
   "outputs": [],
   "source": [
    "# Specify the workdir and the epoch number (0-based index) to analyze\n",
    "WORKDIR = '..' \n",
    "EPOCH = None"
   ]
  },
  {
   "cell_type": "code",
   "execution_count": null,
   "metadata": {},
   "outputs": [],
   "source": [
    "print(os.path.abspath(WORKDIR))"
   ]
  },
  {
   "cell_type": "code",
   "execution_count": null,
   "metadata": {
    "scrolled": false
   },
   "outputs": [],
   "source": [
    "# Load z\n",
    "with open(os.path.join(WORKDIR, f\"z.{EPOCH}.pkl\"), 'rb') as f:\n",
    "    z = pickle.load(f)"
   ]
  },
  {
   "cell_type": "code",
   "execution_count": null,
   "metadata": {},
   "outputs": [],
   "source": [
    "# Load UMAP\n",
    "umap = utils.load_pkl(os.path.join(WORKDIR, f\"analyze.{EPOCH}\", \"umap.pkl\"))\n",
    "# or run UMAP\n",
    "# umap = analysis.run_umap(z)"
   ]
  },
  {
   "cell_type": "code",
   "execution_count": null,
   "metadata": {},
   "outputs": [],
   "source": [
    "# Load kmeans\n",
    "KMEANS = None\n",
    "kmeans_labels = utils.load_pkl(os.path.join(WORKDIR, f\"analyze.{EPOCH}\",\n",
    "                                            f\"kmeans{KMEANS}\", \"labels.pkl\"))\n",
    "kmeans_centers = np.loadtxt(os.path.join(WORKDIR, f\"analyze.{EPOCH}\",\n",
    "                                         f\"kmeans{KMEANS}\", \"centers.txt\"))\n",
    "# Or re-run kmeans with the desired number of classes\n",
    "#kmeans_labels, kmeans_centers = analysis.cluster_kmeans(z, 20)\n",
    "\n",
    "# Get index for on-data cluster center\n",
    "kmeans_centers, centers_ind = analysis.get_nearest_point(z, kmeans_centers)"
   ]
  },
  {
   "cell_type": "markdown",
   "metadata": {},
   "source": [
    "### Define helper functions"
   ]
  },
  {
   "cell_type": "code",
   "execution_count": null,
   "metadata": {},
   "outputs": [],
   "source": [
    "def invert_selection(ind_selected):\n",
    "    return np.array(sorted(set(np.arange(len(z))) - set(ind_selected)))"
   ]
  },
  {
   "cell_type": "code",
   "execution_count": null,
   "metadata": {},
   "outputs": [],
   "source": [
    "def combine_selection(ind_sel1, ind_sel2, kind='union'):\n",
    "    assert kind in ('union','intersection')\n",
    "    return analysis.combine_ind(len(z), ind_sel1, ind_sel2, kind)"
   ]
  },
  {
   "cell_type": "code",
   "execution_count": null,
   "metadata": {},
   "outputs": [],
   "source": [
    "def select_clusters(labels, cluster_ids):\n",
    "    return analysis.get_ind_for_cluster(labels, cluster_ids)"
   ]
  },
  {
   "cell_type": "code",
   "execution_count": null,
   "metadata": {},
   "outputs": [],
   "source": [
    "def save_selection(path, index):\n",
    "    if ind_orig is not None:\n",
    "        print('Converting to original .mrcs indices')\n",
    "        print(f\"{index} -- {N_orig} -- {ind_orig}\")\n",
    "        index = analysis.convert_original_indices(index, N_orig, ind_orig)\n",
    "    utils.save_pkl(index, path)\n",
    "    print(f'Wrote {os.path.abspath(path)}')"
   ]
  },
  {
   "cell_type": "markdown",
   "metadata": {},
   "source": [
    "### Load dataset"
   ]
  },
  {
   "cell_type": "code",
   "execution_count": null,
   "metadata": {},
   "outputs": [],
   "source": [
    "# load configuration file\n",
    "config = cryodrgn.config.load(os.path.join(WORKDIR, \"config.yaml\"))\n",
    "print(config)"
   ]
  },
  {
   "cell_type": "code",
   "execution_count": null,
   "metadata": {},
   "outputs": [],
   "source": [
    "# load poses\n",
    "if config[\"model_args\"][\"pose_estimation\"] in {\"fixed\", \"refine\"}:\n",
    "    pose_pkl = config[\"dataset_args\"][\"poses\"]\n",
    "    rot, trans = utils.load_pkl(pose_pkl)\n",
    "\n",
    "else:\n",
    "    pose_pkl = os.path.join(WORKDIR, f\"pose.{EPOCH}.pkl\")\n",
    "    with open(pose_pkl,'rb') as f:\n",
    "        rot, trans = pickle.load(f)"
   ]
  },
  {
   "cell_type": "code",
   "execution_count": null,
   "metadata": {},
   "outputs": [],
   "source": [
    "# convert rotation matrices to euler angles\n",
    "euler = RR.from_matrix(rot).as_euler('zyz', degrees=True)"
   ]
  },
  {
   "cell_type": "code",
   "execution_count": null,
   "metadata": {},
   "outputs": [],
   "source": [
    "# load index filter\n",
    "ind_orig = config[\"dataset_args\"][\"ind\"]\n",
    "if ind_orig is not None:\n",
    "    if ind_orig.endswith('.pkl'):\n",
    "        ind_orig = utils.load_pkl(ind_orig)\n",
    "    else:\n",
    "        ind_orig = np.arange(int(ind_orig))\n",
    "\n",
    "    if len(rot) > len(ind_orig):\n",
    "        print(f'Filtering poses from {len(rot)} to {len(ind_orig)}')\n",
    "        rot = rot[ind_orig]\n",
    "        trans = trans[ind_orig]\n",
    "        euler = euler[ind_orig]"
   ]
  },
  {
   "cell_type": "code",
   "execution_count": null,
   "metadata": {},
   "outputs": [],
   "source": [
    "# load input particles; we can look at the \n",
    "particles = dataset.ImageDataset(\n",
    "    config['dataset_args']['particles'], lazy=True, ind=ind_orig,\n",
    "    datadir=config['dataset_args']['datadir']\n",
    ")\n",
    "N_orig = particles.src.orig_n\n",
    "\n",
    "# particles object can be filtered manually as well\n",
    "# (e.g. to retrieve individual particles)\n",
    "\n",
    "# if ind_orig is not None:\n",
    "#    print(f'Filtering particles from {len(particles)} to {len(ind_orig)}')\n",
    "#    particles = [particles[int(i)][0, ...] for i in ind_orig]"
   ]
  },
  {
   "cell_type": "code",
   "execution_count": null,
   "metadata": {},
   "outputs": [],
   "source": [
    "# load CTF\n",
    "ctf_params = utils.load_pkl(config[\"dataset_args\"][\"ctf\"])\n",
    "if ind_orig is not None:\n",
    "    print(f'Filtering ctf parameters from {len(ctf_params)} to {len(ind_orig)}')\n",
    "    ctf_params = ctf_params[ind_orig]\n",
    "\n",
    "ctf.print_ctf_params(ctf_params[0])"
   ]
  },
  {
   "cell_type": "markdown",
   "metadata": {},
   "source": [
    "### View pose distribution"
   ]
  },
  {
   "cell_type": "code",
   "execution_count": null,
   "metadata": {},
   "outputs": [],
   "source": [
    "# rotations\n",
    "try:\n",
    "    analysis.plot_euler(euler[:,0],euler[:,1], euler[:,2])\n",
    "except ZeroDivisionError:\n",
    "    print(\"Data too small to produce plot of rotations!\")"
   ]
  },
  {
   "cell_type": "code",
   "execution_count": null,
   "metadata": {},
   "outputs": [],
   "source": [
    "# translations\n",
    "try:\n",
    "    sns.jointplot(x=trans[:,0], y=trans[:,1], kind='hex').set_axis_labels(\n",
    "        'tx (fraction)','ty (fraction)')\n",
    "except ZeroDivisionError:\n",
    "    print(\"Data too small to produce plot of translations!\")\n"
   ]
  },
  {
   "cell_type": "markdown",
   "metadata": {},
   "source": [
    "### Learning curve"
   ]
  },
  {
   "cell_type": "code",
   "execution_count": null,
   "metadata": {},
   "outputs": [],
   "source": [
    "loss = analysis.parse_loss(os.path.join(WORKDIR, 'run.log'))\n",
    "plt.plot(loss)\n",
    "plt.xlabel(\"Epoch\")\n",
    "plt.ylabel(\"Loss\")\n",
    "plt.axvline(x=EPOCH, linestyle=\"--\", color=\"black\", label=f\"Epoch {EPOCH}\")\n",
    "plt.legend()"
   ]
  },
  {
   "cell_type": "markdown",
   "metadata": {},
   "source": [
    "### PCA"
   ]
  },
  {
   "cell_type": "code",
   "execution_count": null,
   "metadata": {},
   "outputs": [],
   "source": [
    "pc, pca = analysis.run_pca(z)"
   ]
  },
  {
   "cell_type": "code",
   "execution_count": null,
   "metadata": {},
   "outputs": [],
   "source": [
    "g = sns.jointplot(x=pc[:,0], y=pc[:,1], alpha=.1, s=1)\n",
    "g.set_axis_labels('PC1', 'PC2')"
   ]
  },
  {
   "cell_type": "code",
   "execution_count": null,
   "metadata": {},
   "outputs": [],
   "source": [
    "g = sns.jointplot(x=pc[:,0], y=pc[:,1], kind='hex')\n",
    "g.set_axis_labels('PC1', 'PC2')"
   ]
  },
  {
   "cell_type": "code",
   "execution_count": null,
   "metadata": {},
   "outputs": [],
   "source": [
    "plt.bar(np.arange(z.shape[1]) + 1, pca.explained_variance_ratio_)\n",
    "plt.xticks(np.arange(z.shape[1])+1)\n",
    "plt.xlabel('PC')\n",
    "plt.ylabel('explained variance')"
   ]
  },
  {
   "cell_type": "markdown",
   "metadata": {},
   "source": [
    "### UMAP"
   ]
  },
  {
   "cell_type": "code",
   "execution_count": null,
   "metadata": {},
   "outputs": [],
   "source": [
    "g = sns.jointplot(x=umap[:, 0], y=umap[:, 1], alpha=.1, s=1)\n",
    "g.set_axis_labels('UMAP1', 'UMAP2')"
   ]
  },
  {
   "cell_type": "code",
   "execution_count": null,
   "metadata": {},
   "outputs": [],
   "source": [
    "g = sns.jointplot(x=umap[:, 0], y=umap[:, 1], kind='hex')\n",
    "g.set_axis_labels('UMAP1', 'UMAP2')"
   ]
  },
  {
   "cell_type": "markdown",
   "metadata": {},
   "source": [
    "# Filter by clustering\n",
    "\n",
    "Select particles based on k-means cluster labels or GMM cluster labels"
   ]
  },
  {
   "cell_type": "markdown",
   "metadata": {},
   "source": [
    "### View K-means clusters"
   ]
  },
  {
   "cell_type": "code",
   "execution_count": null,
   "metadata": {},
   "outputs": [],
   "source": [
    "# Optionally, re-run kmeans with the desired number of classes\n",
    "#K = 20\n",
    "#kmeans_labels, kmeans_centers = analysis.cluster_kmeans(z, K)"
   ]
  },
  {
   "cell_type": "code",
   "execution_count": null,
   "metadata": {},
   "outputs": [],
   "source": [
    "K = len(set(kmeans_labels))\n",
    "c = pca.transform(kmeans_centers) # transform to view with PCs\n",
    "analysis.plot_by_cluster(pc[:,0], pc[:,1], KMEANS,\n",
    "                         kmeans_labels, \n",
    "                         centers=c,\n",
    "                         annotate=True)\n",
    "plt.xlabel('PC1')\n",
    "plt.ylabel('PC2')"
   ]
  },
  {
   "cell_type": "code",
   "execution_count": null,
   "metadata": {},
   "outputs": [],
   "source": [
    "fig, ax = analysis.plot_by_cluster_subplot(pc[:,0], pc[:,1], KMEANS,\n",
    "                                           kmeans_labels)"
   ]
  },
  {
   "cell_type": "code",
   "execution_count": null,
   "metadata": {},
   "outputs": [],
   "source": [
    "analysis.plot_by_cluster(umap[:,0], umap[:,1], KMEANS,\n",
    "                         kmeans_labels, \n",
    "                         centers_ind=centers_ind,\n",
    "                         annotate=True)\n",
    "plt.xlabel('UMAP1')\n",
    "plt.ylabel('UMAP2')"
   ]
  },
  {
   "cell_type": "code",
   "execution_count": null,
   "metadata": {},
   "outputs": [],
   "source": [
    "fig, ax = analysis.plot_by_cluster_subplot(umap[:,0], umap[:,1], KMEANS,\n",
    "                                           kmeans_labels)"
   ]
  },
  {
   "cell_type": "markdown",
   "metadata": {},
   "source": [
    "**Select particles based on k-means clustering**"
   ]
  },
  {
   "cell_type": "code",
   "execution_count": null,
   "metadata": {},
   "outputs": [],
   "source": [
    "cluster_ids = [0,2] # set clusters to select, 0 and 2 in this example\n",
    "ind_selected = select_clusters(kmeans_labels, cluster_ids)\n",
    "ind_selected_not = invert_selection(ind_selected)\n",
    "print('Selected indices:')\n",
    "print(ind_selected)\n",
    "print('Number of selected points:')\n",
    "print(len(ind_selected))\n",
    "print('Number of unselected points:')\n",
    "print(len(ind_selected_not))"
   ]
  },
  {
   "cell_type": "code",
   "execution_count": null,
   "metadata": {},
   "outputs": [],
   "source": [
    "# View PCA\n",
    "plt.scatter(pc[:, 0], pc[:, 1], alpha=.1, s=1)\n",
    "plt.scatter(pc[ind_selected,0], pc[ind_selected,1], alpha=.1, s=1)\n",
    "plt.xlabel('PC1 ({:.2f})'.format(pca.explained_variance_ratio_[0]))\n",
    "plt.ylabel('PC2 ({:.2f})'.format(pca.explained_variance_ratio_[1]))"
   ]
  },
  {
   "cell_type": "code",
   "execution_count": null,
   "metadata": {},
   "outputs": [],
   "source": [
    "# View umap\n",
    "plt.scatter(umap[:, 0], umap[:, 1], alpha=.1, s=1)\n",
    "plt.scatter(umap[ind_selected, 0], umap[ind_selected, 1], alpha=.1, s=1)\n",
    "plt.xlabel('UMAP1')\n",
    "plt.ylabel('UMAP2')"
   ]
  },
  {
   "cell_type": "markdown",
   "metadata": {},
   "source": [
    "### GMM-clustering"
   ]
  },
  {
   "cell_type": "code",
   "execution_count": null,
   "metadata": {},
   "outputs": [],
   "source": [
    "G = 3 # or change to desired cluster number\n",
    "random_state = np.random.randint(100000) # sample random integer\n",
    "print(f'Random state: {random_state}')\n",
    "gmm_labels, gmm_centers = analysis.cluster_gmm(z, G, random_state=random_state)\n",
    "gmm_centers, gmm_centers_ind = analysis.get_nearest_point(z, gmm_centers)"
   ]
  },
  {
   "cell_type": "code",
   "execution_count": null,
   "metadata": {},
   "outputs": [],
   "source": [
    "analysis.plot_by_cluster(pc[:, 0], pc[:, 1], G, \n",
    "                         gmm_labels, \n",
    "                         centers_ind=gmm_centers_ind,\n",
    "                         annotate=True)\n",
    "plt.xlabel('PC1')\n",
    "plt.ylabel('PC2')"
   ]
  },
  {
   "cell_type": "code",
   "execution_count": null,
   "metadata": {},
   "outputs": [],
   "source": [
    "fig, ax = analysis.plot_by_cluster_subplot(pc[:, 0], pc[:, 1], G, gmm_labels)"
   ]
  },
  {
   "cell_type": "code",
   "execution_count": null,
   "metadata": {},
   "outputs": [],
   "source": [
    "analysis.plot_by_cluster(umap[:,0], umap[:,1], G, \n",
    "                         gmm_labels, \n",
    "                         centers_ind=gmm_centers_ind,\n",
    "                         annotate=True)\n",
    "plt.xlabel('UMAP1')\n",
    "plt.ylabel('UMAP2')"
   ]
  },
  {
   "cell_type": "code",
   "execution_count": null,
   "metadata": {},
   "outputs": [],
   "source": [
    "fig, ax = analysis.plot_by_cluster_subplot(umap[:,0], umap[:,1], G, gmm_labels)"
   ]
  },
  {
   "cell_type": "markdown",
   "metadata": {},
   "source": [
    "**Select particles based on GMM-means clustering**"
   ]
  },
  {
   "cell_type": "code",
   "execution_count": null,
   "metadata": {},
   "outputs": [],
   "source": [
    "cluster_ids = [0,2] # set clusters to select, 0 and 2 in this example\n",
    "ind_selected = select_clusters(gmm_labels, cluster_ids)\n",
    "ind_selected_not = invert_selection(ind_selected)\n",
    "print('Selected indices:')\n",
    "print(ind_selected)\n",
    "print('Number of selected points:')\n",
    "print(len(ind_selected))\n",
    "print('Number of unselected points:')\n",
    "print(len(ind_selected_not))"
   ]
  },
  {
   "cell_type": "code",
   "execution_count": null,
   "metadata": {},
   "outputs": [],
   "source": [
    "# View PCA\n",
    "plt.scatter(pc[:,0], pc[:,1], alpha=.1, s=1)\n",
    "plt.scatter(pc[ind_selected,0], pc[ind_selected,1], alpha=.1, s=1)\n",
    "plt.xlabel('PC1 ({:.2f})'.format(pca.explained_variance_ratio_[0]))\n",
    "plt.ylabel('PC2 ({:.2f})'.format(pca.explained_variance_ratio_[1]))"
   ]
  },
  {
   "cell_type": "code",
   "execution_count": null,
   "metadata": {},
   "outputs": [],
   "source": [
    "# View umap\n",
    "plt.scatter(umap[:,0], umap[:,1], alpha=.1, s=1)\n",
    "plt.scatter(umap[ind_selected,0], umap[ind_selected,1], alpha=.1, s=1)\n",
    "plt.xlabel('UMAP1')\n",
    "plt.ylabel('UMAP2')"
   ]
  },
  {
   "cell_type": "markdown",
   "metadata": {},
   "source": [
    "# Filter outlier particles"
   ]
  },
  {
   "cell_type": "code",
   "execution_count": null,
   "metadata": {},
   "outputs": [],
   "source": [
    "# Compute magnitude of latent encodings\n",
    "znorm = np.sum(z**2,axis=1)**.5"
   ]
  },
  {
   "cell_type": "code",
   "execution_count": null,
   "metadata": {},
   "outputs": [],
   "source": [
    "# Distribution of ||z||\n",
    "sns.distplot(znorm, kde=False)\n",
    "plt.xlabel('||z||')"
   ]
  },
  {
   "cell_type": "code",
   "execution_count": null,
   "metadata": {},
   "outputs": [],
   "source": [
    "# By default, identify particles with ||z|| 2 std deviations above mean\n",
    "zscore = 2\n",
    "thresh = znorm.mean()+zscore*znorm.std()\n",
    "print(f'Mean: {znorm.mean()}, Std: {znorm.std()}, Selected threshold: {thresh}')"
   ]
  },
  {
   "cell_type": "code",
   "execution_count": null,
   "metadata": {},
   "outputs": [],
   "source": [
    "ind_outliers = np.where(znorm >= thresh)[0]\n",
    "ind_outliers_not = invert_selection(ind_outliers)\n",
    "\n",
    "print('Selected indices:')\n",
    "print(ind_outliers)\n",
    "print('Number of selected points:')\n",
    "print(len(ind_outliers))\n",
    "print('Number of unselected points:')\n",
    "print(len(ind_outliers_not))"
   ]
  },
  {
   "cell_type": "code",
   "execution_count": null,
   "metadata": {},
   "outputs": [],
   "source": [
    "g = sns.distplot(znorm, kde=False)\n",
    "plt.axvline(x=thresh)\n",
    "plt.xlabel('||z||')\n",
    "plt.title('Magnitude of particle latent encodings')"
   ]
  },
  {
   "cell_type": "code",
   "execution_count": null,
   "metadata": {},
   "outputs": [],
   "source": [
    "# View PCA\n",
    "plt.scatter(pc[:,0], pc[:,1], alpha=.1, s=1)\n",
    "plt.scatter(pc[ind_outliers,0], pc[ind_outliers,1], alpha=.1, s=1)\n",
    "plt.xlabel('PC1 ({:.2f})'.format(pca.explained_variance_ratio_[0]))\n",
    "plt.ylabel('PC2 ({:.2f})'.format(pca.explained_variance_ratio_[1]))\n",
    "plt.title(f'Particles with ||z|| > {thresh}')"
   ]
  },
  {
   "cell_type": "code",
   "execution_count": null,
   "metadata": {},
   "outputs": [],
   "source": [
    "# View UMAP\n",
    "plt.scatter(umap[:,0], umap[:,1], alpha=.1, s=1)\n",
    "plt.scatter(umap[ind_outliers,0], umap[ind_outliers,1], alpha=.1, s=1)\n",
    "plt.xlabel('UMAP1')\n",
    "plt.ylabel('UMAP2')\n",
    "plt.title(f'Particles with ||z|| > {thresh}')"
   ]
  },
  {
   "cell_type": "code",
   "execution_count": null,
   "metadata": {},
   "outputs": [],
   "source": [
    "# Assign variables for viz/saving cells at the end of the notebook\n",
    "ind_selected = ind_outliers\n",
    "ind_selected_not = ind_outliers_not"
   ]
  },
  {
   "cell_type": "markdown",
   "source": [
    "# Interactive visualization\n",
    "\n",
    "Interactive visualization of the latent encodings for the trained model. Each\n",
    "point represents a particle image of the dataset. The hover text includes the\n",
    "index of the image in the particle stack. "
   ],
   "metadata": {
    "collapsed": false
   }
  },
  {
   "cell_type": "code",
   "execution_count": null,
   "outputs": [],
   "source": [
    "# Load data into a pandas dataframe\n",
    "df = analysis.load_dataframe(z=z, \n",
    "                             pc=pc, \n",
    "                             euler=euler, \n",
    "                             trans=trans, \n",
    "                             labels=kmeans_labels, \n",
    "                             umap=umap,\n",
    "                             df1=ctf_params[:,2],\n",
    "                             df2=ctf_params[:,3],\n",
    "                             dfang=ctf_params[:,4],\n",
    "                             phase=ctf_params[:,8],\n",
    "                             znorm=znorm)\n",
    "df.head()"
   ],
   "metadata": {
    "collapsed": false
   }
  },
  {
   "cell_type": "markdown",
   "source": [
    "### Interactive selection\n",
    "\n",
    "The next two cells contain helper code to select particles using an interactive\n",
    "lasso tool. \n",
    "\n",
    "1. In the first cell, select points with the lasso tool. The table widget is\n",
    "dynamically updated with the most recent selection's indices. \n",
    "2. Then once you've finalized your selection, **run the next cell** to save the\n",
    "particle indices for downstream analysis/viz.\n",
    "\n",
    "(Double click to clear selection)\n",
    "\n",
    "You can also use our interactive command line tool `cryodrgn filter $WORKDIR`\n",
    "for selecting particles."
   ],
   "metadata": {
    "collapsed": false
   }
  },
  {
   "cell_type": "code",
   "execution_count": null,
   "outputs": [],
   "source": [
    "widget, fig, ind_table = analysis.ipy_plot_interactive(df)\n",
    "VBox((widget,fig,ind_table))"
   ],
   "metadata": {
    "collapsed": false
   }
  },
  {
   "cell_type": "code",
   "execution_count": null,
   "outputs": [],
   "source": [
    "ind_selected = ind_table.data[0].cells.values[0] # save table values\n",
    "ind_selected = np.array(ind_selected)\n",
    "ind_selected_not = invert_selection(ind_selected)\n",
    "\n",
    "print('Selected indices:')\n",
    "print(ind_selected)\n",
    "print('Number of selected points:')\n",
    "print(len(ind_selected))\n",
    "print('Number of unselected points:')\n",
    "print(len(ind_selected_not))"
   ],
   "metadata": {
    "collapsed": false
   }
  },
  {
   "cell_type": "code",
   "execution_count": null,
   "outputs": [],
   "source": [
    "# View PCA\n",
    "plt.scatter(pc[:,0], pc[:,1], alpha=.1, s=1)\n",
    "plt.scatter(pc[ind_selected,0], pc[ind_selected,1], alpha=.1, s=1)\n",
    "plt.xlabel('PC1 ({:.2f})'.format(pca.explained_variance_ratio_[0]))\n",
    "plt.ylabel('PC2 ({:.2f})'.format(pca.explained_variance_ratio_[1]))"
   ],
   "metadata": {
    "collapsed": false
   }
  },
  {
   "cell_type": "code",
   "execution_count": null,
   "outputs": [],
   "source": [
    "# View umap\n",
    "plt.scatter(umap[:,0], umap[:,1], alpha=.1, s=1)\n",
    "plt.scatter(umap[ind_selected,0], umap[ind_selected,1], alpha=.1, s=1)\n",
    "plt.xlabel('UMAP1')\n",
    "plt.ylabel('UMAP2')"
   ],
   "metadata": {
    "collapsed": false
   }
  },
  {
   "cell_type": "markdown",
   "source": [
    "# UMAP/PC selection"
   ],
   "metadata": {
    "collapsed": false
   }
  },
  {
   "cell_type": "code",
   "execution_count": null,
   "outputs": [],
   "source": [
    "# Load data into a pandas dataframe\n",
    "df = analysis.load_dataframe(z=z, \n",
    "                             pc=pc, \n",
    "                             euler=euler, \n",
    "                             trans=trans, \n",
    "                             labels=kmeans_labels, \n",
    "                             umap=umap,\n",
    "                             df1=ctf_params[:,2],\n",
    "                             df2=ctf_params[:,3],\n",
    "                             dfang=ctf_params[:,4],\n",
    "                             phase=ctf_params[:,8])\n",
    "df.head()"
   ],
   "metadata": {
    "collapsed": false
   }
  },
  {
   "cell_type": "markdown",
   "source": [
    "### Selection by UMAP/PC values\n",
    "\n",
    "In the next cell, you can select different indexes using UMAP or PC values.\n",
    "Change the values in the selection, and add more selections if necessary. The\n",
    "default is UMAP1 and UMAP2, you can change that by changing the 'UMAP1' by your\n",
    "desired field (e.g. PC1)."
   ],
   "metadata": {
    "collapsed": false
   }
  },
  {
   "cell_type": "code",
   "execution_count": null,
   "outputs": [],
   "source": [
    "# 1 selection\n",
    "ind_selected1 = df.index[(df['UMAP1'] >= -5) & (df['UMAP1'] <= 5) & (df['UMAP2'] >= -5) & (df['UMAP2'] <= 5)]\n",
    "ind_selected1 = np.array(ind_selected1)\n",
    "ind_selected = ind_selected1\n",
    "# 2 selections\n",
    "#ind_selected2 = df.index[(df['UMAP1'] >= -5) & (df['UMAP1'] <= 5) & (df['UMAP2'] >= -5) & (df['UMAP2'] <= 5)]\n",
    "#ind_selected2 = np.array(ind_selected2)\n",
    "#ind_selected = np.append(ind_selected1, ind_selected2)\n",
    "#ind_selected = np.unique(ind_selected)\n",
    "# 3 selections\n",
    "#ind_selected3 = df.index[(df['UMAP1'] >= -5) & (df['UMAP1'] <= 5) & (df['UMAP2'] >= -5) & (df['UMAP2'] <= 5)]\n",
    "#ind_selected3 = np.array(ind_selected3)\n",
    "#ind_selected = np.append(ind_selected, ind_selected3)\n",
    "#ind_selected = np.unique(ind_selected)\n",
    "\n",
    "ind_selected_not = invert_selection(ind_selected)\n",
    "\n",
    "print('Selected indices:')\n",
    "print(ind_selected)\n",
    "print('Number of selected points:')\n",
    "print(len(ind_selected))\n",
    "print('Number of unselected points:')\n",
    "print(len(ind_selected_not))"
   ],
   "metadata": {
    "collapsed": false
   }
  },
  {
   "cell_type": "code",
   "execution_count": null,
   "outputs": [],
   "source": [
    "# View PCA\n",
    "plt.scatter(pc[:,0], pc[:,1], alpha=.1, s=1)\n",
    "plt.scatter(pc[ind_selected,0], pc[ind_selected,1], alpha=.1, s=1)\n",
    "plt.xlabel('PC1 ({:.2f})'.format(pca.explained_variance_ratio_[0]))\n",
    "plt.ylabel('PC2 ({:.2f})'.format(pca.explained_variance_ratio_[1]))"
   ],
   "metadata": {
    "collapsed": false
   }
  },
  {
   "cell_type": "code",
   "execution_count": null,
   "outputs": [],
   "source": [
    "# View umap\n",
    "plt.scatter(umap[:,0], umap[:,1], alpha=.1, s=1)\n",
    "plt.scatter(umap[ind_selected,0], umap[ind_selected,1], alpha=.1, s=1)\n",
    "plt.xlabel('UMAP1')\n",
    "plt.ylabel('UMAP2')"
   ],
   "metadata": {
    "collapsed": false
   }
  },
  {
   "cell_type": "markdown",
   "metadata": {},
   "source": [
    "# View particles\n",
    "\n",
    "View images from selected particles"
   ]
  },
  {
   "cell_type": "code",
   "execution_count": null,
   "metadata": {},
   "outputs": [],
   "source": [
    "# or set to custom selection\n",
    "n = len(particles)\n",
    "particle_ind = list(ind_selected) or np.random.choice(range(n), min(n, 9), replace=False)\n"
   ]
  },
  {
   "cell_type": "code",
   "execution_count": null,
   "metadata": {},
   "outputs": [],
   "source": [
    "# Choose 9 particles to view at random\n",
    "if len(particle_ind) > 9:\n",
    "    ind_subset9 = np.random.choice(particle_ind, 9, replace=False)\n",
    "else: \n",
    "    ind_subset9 = particle_ind\n",
    "\n",
    "print(ind_subset9)"
   ]
  },
  {
   "cell_type": "code",
   "execution_count": null,
   "metadata": {},
   "outputs": [],
   "source": [
    "p = [particles[int(ii)][\"y\"][0, ...] for ii in ind_subset9]\n",
    "_ = analysis.plot_projections(p, ind_subset9)\n",
    "\n",
    "plt.figure()\n",
    "plt.scatter(umap[:,0], umap[:,1], alpha=.1, s=1)\n",
    "plt.scatter(umap[ind_subset9,0], umap[ind_subset9,1], color='k')\n",
    "plt.xlabel('UMAP1')\n",
    "plt.ylabel('UMAP2')"
   ]
  },
  {
   "cell_type": "markdown",
   "metadata": {},
   "source": [
    "# Save selection\n",
    "\n",
    "Save the particle indices for the selected (`ind_selected`) and unselected particles (`ind_selected_not`) as a .pkl file for downstream processing in cryoDRGN or with other tools.\n",
    "\n",
    "Rename the paths as desired. Note that the indices will be automatically converted if the current cryoDRGN training run has already been filtered (`ind_orig` loaded in an earlier cell)."
   ]
  },
  {
   "cell_type": "code",
   "execution_count": null,
   "metadata": {},
   "outputs": [],
   "source": [
    "# Set selection as either the kept or bad particles (for file naming purposes)\n",
    "ind_keep = ind_selected # or ind_selected_not\n",
    "ind_bad = ind_selected_not # or ind_selected"
   ]
  },
  {
   "cell_type": "code",
   "execution_count": null,
   "metadata": {},
   "outputs": [],
   "source": [
    "# View PCA\n",
    "plt.scatter(pc[:,0], pc[:,1], alpha=.1, s=1)\n",
    "plt.scatter(pc[ind_keep,0], pc[ind_keep,1], alpha=.1, s=1)\n",
    "plt.xlabel('PC1 ({:.2f})'.format(pca.explained_variance_ratio_[0]))\n",
    "plt.ylabel('PC2 ({:.2f})'.format(pca.explained_variance_ratio_[1]))"
   ]
  },
  {
   "cell_type": "code",
   "execution_count": null,
   "metadata": {},
   "outputs": [],
   "source": [
    "# View UMAP\n",
    "plt.scatter(umap[:,0], umap[:,1], alpha=.1, s=1)\n",
    "plt.scatter(umap[ind_keep,0], umap[ind_keep,1], alpha=.1, s=1)\n",
    "plt.xlabel('UMAP1')\n",
    "plt.ylabel('UMAP2')"
   ]
  },
  {
   "cell_type": "code",
   "execution_count": null,
   "metadata": {},
   "outputs": [],
   "source": [
    "print('Kept particle indices:')\n",
    "print(ind_keep)\n",
    "print('Number of kept particles:')\n",
    "print(len(ind_keep))\n",
    "print('Number of bad particles:')\n",
    "print(len(ind_bad))"
   ]
  },
  {
   "cell_type": "code",
   "execution_count": null,
   "metadata": {},
   "outputs": [],
   "source": [
    "if len(ind_keep):\n",
    "    # Path to save index .pkl for selected particles\n",
    "    SAVE_PATH = f'{WORKDIR}/ind_keep.{len(ind_keep)}_particles.pkl'\n",
    "    save_selection(SAVE_PATH, ind_keep)"
   ]
  },
  {
   "cell_type": "code",
   "execution_count": null,
   "metadata": {},
   "outputs": [],
   "source": [
    "if len(ind_bad):\n",
    "    # Path to save index .pkl for non-selected particles\n",
    "    SAVE_PATH = f'{WORKDIR}/ind_bad.{len(ind_bad)}_particles.pkl'\n",
    "    save_selection(SAVE_PATH, ind_bad)"
   ]
  }
 ],
 "metadata": {
  "kernelspec": {
   "display_name": "Python 3",
   "language": "python",
   "name": "python3"
  },
  "language_info": {
   "codemirror_mode": {
    "name": "ipython",
    "version": 3
   },
   "file_extension": ".py",
   "mimetype": "text/x-python",
   "name": "python",
   "nbconvert_exporter": "python",
   "pygments_lexer": "ipython3",
   "version": "3.7.3"
  }
 },
 "nbformat": 4,
 "nbformat_minor": 2
}
